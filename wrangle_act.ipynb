{
 "cells": [
  {
   "cell_type": "markdown",
   "metadata": {},
   "source": [
    "# Garett Hansen - Data Wrangling Project"
   ]
  },
  {
   "cell_type": "code",
   "execution_count": 1,
   "metadata": {},
   "outputs": [],
   "source": [
    "import pandas as pd\n",
    "import numpy as np\n",
    "import requests\n",
    "import tweepy\n",
    "import json\n",
    "import matplotlib.pyplot as plt\n",
    "import seaborn as sns\n",
    "%matplotlib inline"
   ]
  },
  {
   "cell_type": "markdown",
   "metadata": {},
   "source": [
    "## Gathering"
   ]
  },
  {
   "cell_type": "code",
   "execution_count": 2,
   "metadata": {},
   "outputs": [
    {
     "data": {
      "text/html": [
       "<div>\n",
       "<style scoped>\n",
       "    .dataframe tbody tr th:only-of-type {\n",
       "        vertical-align: middle;\n",
       "    }\n",
       "\n",
       "    .dataframe tbody tr th {\n",
       "        vertical-align: top;\n",
       "    }\n",
       "\n",
       "    .dataframe thead th {\n",
       "        text-align: right;\n",
       "    }\n",
       "</style>\n",
       "<table border=\"1\" class=\"dataframe\">\n",
       "  <thead>\n",
       "    <tr style=\"text-align: right;\">\n",
       "      <th></th>\n",
       "      <th>tweet_id</th>\n",
       "      <th>in_reply_to_status_id</th>\n",
       "      <th>in_reply_to_user_id</th>\n",
       "      <th>timestamp</th>\n",
       "      <th>source</th>\n",
       "      <th>text</th>\n",
       "      <th>retweeted_status_id</th>\n",
       "      <th>retweeted_status_user_id</th>\n",
       "      <th>retweeted_status_timestamp</th>\n",
       "      <th>expanded_urls</th>\n",
       "      <th>rating_numerator</th>\n",
       "      <th>rating_denominator</th>\n",
       "      <th>name</th>\n",
       "      <th>doggo</th>\n",
       "      <th>floofer</th>\n",
       "      <th>pupper</th>\n",
       "      <th>puppo</th>\n",
       "    </tr>\n",
       "  </thead>\n",
       "  <tbody>\n",
       "    <tr>\n",
       "      <th>0</th>\n",
       "      <td>892420643555336193</td>\n",
       "      <td>NaN</td>\n",
       "      <td>NaN</td>\n",
       "      <td>2017-08-01 16:23:56 +0000</td>\n",
       "      <td>&lt;a href=\"http://twitter.com/download/iphone\" r...</td>\n",
       "      <td>This is Phineas. He's a mystical boy. Only eve...</td>\n",
       "      <td>NaN</td>\n",
       "      <td>NaN</td>\n",
       "      <td>NaN</td>\n",
       "      <td>https://twitter.com/dog_rates/status/892420643...</td>\n",
       "      <td>13</td>\n",
       "      <td>10</td>\n",
       "      <td>Phineas</td>\n",
       "      <td>None</td>\n",
       "      <td>None</td>\n",
       "      <td>None</td>\n",
       "      <td>None</td>\n",
       "    </tr>\n",
       "  </tbody>\n",
       "</table>\n",
       "</div>"
      ],
      "text/plain": [
       "             tweet_id  in_reply_to_status_id  in_reply_to_user_id  \\\n",
       "0  892420643555336193                    NaN                  NaN   \n",
       "\n",
       "                   timestamp  \\\n",
       "0  2017-08-01 16:23:56 +0000   \n",
       "\n",
       "                                              source  \\\n",
       "0  <a href=\"http://twitter.com/download/iphone\" r...   \n",
       "\n",
       "                                                text  retweeted_status_id  \\\n",
       "0  This is Phineas. He's a mystical boy. Only eve...                  NaN   \n",
       "\n",
       "   retweeted_status_user_id retweeted_status_timestamp  \\\n",
       "0                       NaN                        NaN   \n",
       "\n",
       "                                       expanded_urls  rating_numerator  \\\n",
       "0  https://twitter.com/dog_rates/status/892420643...                13   \n",
       "\n",
       "   rating_denominator     name doggo floofer pupper puppo  \n",
       "0                  10  Phineas  None    None   None  None  "
      ]
     },
     "execution_count": 2,
     "metadata": {},
     "output_type": "execute_result"
    }
   ],
   "source": [
    "#read in twitter archive csv\n",
    "\n",
    "twt_arch = pd.read_csv('twitter-archive-enhanced.csv')\n",
    "\n",
    "twt_arch.head(1)"
   ]
  },
  {
   "cell_type": "code",
   "execution_count": 3,
   "metadata": {
    "scrolled": true
   },
   "outputs": [
    {
     "data": {
      "text/html": [
       "<div>\n",
       "<style scoped>\n",
       "    .dataframe tbody tr th:only-of-type {\n",
       "        vertical-align: middle;\n",
       "    }\n",
       "\n",
       "    .dataframe tbody tr th {\n",
       "        vertical-align: top;\n",
       "    }\n",
       "\n",
       "    .dataframe thead th {\n",
       "        text-align: right;\n",
       "    }\n",
       "</style>\n",
       "<table border=\"1\" class=\"dataframe\">\n",
       "  <thead>\n",
       "    <tr style=\"text-align: right;\">\n",
       "      <th></th>\n",
       "      <th>tweet_id</th>\n",
       "      <th>jpg_url</th>\n",
       "      <th>img_num</th>\n",
       "      <th>p1</th>\n",
       "      <th>p1_conf</th>\n",
       "      <th>p1_dog</th>\n",
       "      <th>p2</th>\n",
       "      <th>p2_conf</th>\n",
       "      <th>p2_dog</th>\n",
       "      <th>p3</th>\n",
       "      <th>p3_conf</th>\n",
       "      <th>p3_dog</th>\n",
       "    </tr>\n",
       "  </thead>\n",
       "  <tbody>\n",
       "    <tr>\n",
       "      <th>0</th>\n",
       "      <td>666020888022790149</td>\n",
       "      <td>https://pbs.twimg.com/media/CT4udn0WwAA0aMy.jpg</td>\n",
       "      <td>1</td>\n",
       "      <td>Welsh_springer_spaniel</td>\n",
       "      <td>0.465074</td>\n",
       "      <td>True</td>\n",
       "      <td>collie</td>\n",
       "      <td>0.156665</td>\n",
       "      <td>True</td>\n",
       "      <td>Shetland_sheepdog</td>\n",
       "      <td>0.061428</td>\n",
       "      <td>True</td>\n",
       "    </tr>\n",
       "  </tbody>\n",
       "</table>\n",
       "</div>"
      ],
      "text/plain": [
       "             tweet_id                                          jpg_url  \\\n",
       "0  666020888022790149  https://pbs.twimg.com/media/CT4udn0WwAA0aMy.jpg   \n",
       "\n",
       "   img_num                      p1   p1_conf  p1_dog      p2   p2_conf  \\\n",
       "0        1  Welsh_springer_spaniel  0.465074    True  collie  0.156665   \n",
       "\n",
       "   p2_dog                 p3   p3_conf  p3_dog  \n",
       "0    True  Shetland_sheepdog  0.061428    True  "
      ]
     },
     "execution_count": 3,
     "metadata": {},
     "output_type": "execute_result"
    }
   ],
   "source": [
    "#download and read in image predictions tsv\n",
    "\n",
    "url = \"https://d17h27t6h515a5.cloudfront.net/topher/2017/August/599fd2ad_image-predictions/image-predictions.tsv\"\n",
    "r = requests.get(url)\n",
    "\n",
    "with open('image-predictions.tsv', 'wb') as f:\n",
    "        f.write(r.content)\n",
    "        \n",
    "img_pred = pd.read_csv('image-predictions.tsv', sep='\\t')\n",
    "\n",
    "img_pred.head(1)"
   ]
  },
  {
   "cell_type": "code",
   "execution_count": 4,
   "metadata": {},
   "outputs": [],
   "source": [
    "#Twitter API parameters\n",
    "\n",
    "consumer_key = 'HIDDEN'\n",
    "consumer_secret = 'HIDDEN'\n",
    "access_token = 'HIDDEN'\n",
    "access_secret = 'HIDDEN'\n",
    "\n",
    "auth = tweepy.OAuthHandler(consumer_key, consumer_secret)\n",
    "auth.set_access_token(access_token, access_secret)\n",
    "\n",
    "api = tweepy.API(auth, wait_on_rate_limit = True, wait_on_rate_limit_notify = True)"
   ]
  },
  {
   "cell_type": "code",
   "execution_count": 5,
   "metadata": {},
   "outputs": [],
   "source": [
    "#Use tweet_id to import data and store in tweet_json.txt\n",
    "\n",
    "with open('tweet_json.txt', 'w') as output:\n",
    "    for tweet_id in twt_arch['tweet_id']:\n",
    "        try:\n",
    "            tweet = api.get_status(tweet_id, tweet_mode='extended')\n",
    "            json.dump(tweet._json, output)\n",
    "            output.write('\\n')\n",
    "        except:\n",
    "            continue"
   ]
  },
  {
   "cell_type": "code",
   "execution_count": 6,
   "metadata": {},
   "outputs": [],
   "source": [
    "#read each line from tweet_json.txt into dataframe\n",
    "\n",
    "twitter_list = []\n",
    "\n",
    "with open('tweet_json.txt') as f:\n",
    "    for line in f:\n",
    "        status = json.loads(line)\n",
    "        tweet_id = status['id']\n",
    "        retweet_count = status['retweet_count']\n",
    "        favorite_count = status['favorite_count']\n",
    "        \n",
    "        twitter_list.append({'tweet_id': tweet_id,\n",
    "                            'retweet_count': retweet_count,\n",
    "                            'favorite_count': favorite_count})\n",
    "\n",
    "tw_df = pd.DataFrame(twitter_list, columns = ['tweet_id', 'retweet_count', 'favorite_count'])     "
   ]
  },
  {
   "cell_type": "code",
   "execution_count": 7,
   "metadata": {},
   "outputs": [
    {
     "data": {
      "text/html": [
       "<div>\n",
       "<style scoped>\n",
       "    .dataframe tbody tr th:only-of-type {\n",
       "        vertical-align: middle;\n",
       "    }\n",
       "\n",
       "    .dataframe tbody tr th {\n",
       "        vertical-align: top;\n",
       "    }\n",
       "\n",
       "    .dataframe thead th {\n",
       "        text-align: right;\n",
       "    }\n",
       "</style>\n",
       "<table border=\"1\" class=\"dataframe\">\n",
       "  <thead>\n",
       "    <tr style=\"text-align: right;\">\n",
       "      <th></th>\n",
       "      <th>tweet_id</th>\n",
       "      <th>retweet_count</th>\n",
       "      <th>favorite_count</th>\n",
       "    </tr>\n",
       "  </thead>\n",
       "  <tbody>\n",
       "    <tr>\n",
       "      <th>0</th>\n",
       "      <td>892420643555336193</td>\n",
       "      <td>8186</td>\n",
       "      <td>37520</td>\n",
       "    </tr>\n",
       "    <tr>\n",
       "      <th>1</th>\n",
       "      <td>892177421306343426</td>\n",
       "      <td>6056</td>\n",
       "      <td>32250</td>\n",
       "    </tr>\n",
       "    <tr>\n",
       "      <th>2</th>\n",
       "      <td>891815181378084864</td>\n",
       "      <td>4004</td>\n",
       "      <td>24297</td>\n",
       "    </tr>\n",
       "    <tr>\n",
       "      <th>3</th>\n",
       "      <td>891689557279858688</td>\n",
       "      <td>8327</td>\n",
       "      <td>40858</td>\n",
       "    </tr>\n",
       "    <tr>\n",
       "      <th>4</th>\n",
       "      <td>891327558926688256</td>\n",
       "      <td>9033</td>\n",
       "      <td>39061</td>\n",
       "    </tr>\n",
       "  </tbody>\n",
       "</table>\n",
       "</div>"
      ],
      "text/plain": [
       "             tweet_id  retweet_count  favorite_count\n",
       "0  892420643555336193           8186           37520\n",
       "1  892177421306343426           6056           32250\n",
       "2  891815181378084864           4004           24297\n",
       "3  891689557279858688           8327           40858\n",
       "4  891327558926688256           9033           39061"
      ]
     },
     "execution_count": 7,
     "metadata": {},
     "output_type": "execute_result"
    }
   ],
   "source": [
    "#check dataframe\n",
    "\n",
    "tw_df.head()"
   ]
  },
  {
   "cell_type": "code",
   "execution_count": 8,
   "metadata": {},
   "outputs": [],
   "source": [
    "#save a copy of the twitter data in a csv file\n",
    "\n",
    "tw_df.to_csv('twitter_df.csv', index=False)"
   ]
  },
  {
   "cell_type": "markdown",
   "metadata": {},
   "source": [
    "## Assessing"
   ]
  },
  {
   "cell_type": "markdown",
   "metadata": {},
   "source": [
    "#### Twitter Archive"
   ]
  },
  {
   "cell_type": "code",
   "execution_count": 9,
   "metadata": {},
   "outputs": [
    {
     "data": {
      "text/html": [
       "<div>\n",
       "<style scoped>\n",
       "    .dataframe tbody tr th:only-of-type {\n",
       "        vertical-align: middle;\n",
       "    }\n",
       "\n",
       "    .dataframe tbody tr th {\n",
       "        vertical-align: top;\n",
       "    }\n",
       "\n",
       "    .dataframe thead th {\n",
       "        text-align: right;\n",
       "    }\n",
       "</style>\n",
       "<table border=\"1\" class=\"dataframe\">\n",
       "  <thead>\n",
       "    <tr style=\"text-align: right;\">\n",
       "      <th></th>\n",
       "      <th>tweet_id</th>\n",
       "      <th>in_reply_to_status_id</th>\n",
       "      <th>in_reply_to_user_id</th>\n",
       "      <th>timestamp</th>\n",
       "      <th>source</th>\n",
       "      <th>text</th>\n",
       "      <th>retweeted_status_id</th>\n",
       "      <th>retweeted_status_user_id</th>\n",
       "      <th>retweeted_status_timestamp</th>\n",
       "      <th>expanded_urls</th>\n",
       "      <th>rating_numerator</th>\n",
       "      <th>rating_denominator</th>\n",
       "      <th>name</th>\n",
       "      <th>doggo</th>\n",
       "      <th>floofer</th>\n",
       "      <th>pupper</th>\n",
       "      <th>puppo</th>\n",
       "    </tr>\n",
       "  </thead>\n",
       "  <tbody>\n",
       "    <tr>\n",
       "      <th>1890</th>\n",
       "      <td>674767892831932416</td>\n",
       "      <td>NaN</td>\n",
       "      <td>NaN</td>\n",
       "      <td>2015-12-10 01:49:36 +0000</td>\n",
       "      <td>&lt;a href=\"http://twitter.com/download/iphone\" r...</td>\n",
       "      <td>This pup was carefully tossed to make it look ...</td>\n",
       "      <td>NaN</td>\n",
       "      <td>NaN</td>\n",
       "      <td>NaN</td>\n",
       "      <td>https://twitter.com/dog_rates/status/674767892...</td>\n",
       "      <td>12</td>\n",
       "      <td>10</td>\n",
       "      <td>None</td>\n",
       "      <td>None</td>\n",
       "      <td>None</td>\n",
       "      <td>None</td>\n",
       "      <td>None</td>\n",
       "    </tr>\n",
       "    <tr>\n",
       "      <th>1250</th>\n",
       "      <td>711008018775851008</td>\n",
       "      <td>NaN</td>\n",
       "      <td>NaN</td>\n",
       "      <td>2016-03-19 01:54:56 +0000</td>\n",
       "      <td>&lt;a href=\"http://twitter.com/download/iphone\" r...</td>\n",
       "      <td>This is Chuckles. He had a balloon but he acci...</td>\n",
       "      <td>NaN</td>\n",
       "      <td>NaN</td>\n",
       "      <td>NaN</td>\n",
       "      <td>https://twitter.com/dog_rates/status/711008018...</td>\n",
       "      <td>11</td>\n",
       "      <td>10</td>\n",
       "      <td>Chuckles</td>\n",
       "      <td>None</td>\n",
       "      <td>None</td>\n",
       "      <td>pupper</td>\n",
       "      <td>None</td>\n",
       "    </tr>\n",
       "    <tr>\n",
       "      <th>885</th>\n",
       "      <td>760153949710192640</td>\n",
       "      <td>NaN</td>\n",
       "      <td>NaN</td>\n",
       "      <td>2016-08-01 16:43:19 +0000</td>\n",
       "      <td>&lt;a href=\"http://twitter.com/download/iphone\" r...</td>\n",
       "      <td>RT @hownottodraw: The story/person behind @dog...</td>\n",
       "      <td>7.601538e+17</td>\n",
       "      <td>195036846.0</td>\n",
       "      <td>2016-08-01 16:42:51 +0000</td>\n",
       "      <td>https://weratedogs.com/pages/about-us,https://...</td>\n",
       "      <td>11</td>\n",
       "      <td>10</td>\n",
       "      <td>None</td>\n",
       "      <td>None</td>\n",
       "      <td>None</td>\n",
       "      <td>None</td>\n",
       "      <td>None</td>\n",
       "    </tr>\n",
       "    <tr>\n",
       "      <th>956</th>\n",
       "      <td>751583847268179968</td>\n",
       "      <td>NaN</td>\n",
       "      <td>NaN</td>\n",
       "      <td>2016-07-09 01:08:47 +0000</td>\n",
       "      <td>&lt;a href=\"http://twitter.com/download/iphone\" r...</td>\n",
       "      <td>Please stop sending it pictures that don't eve...</td>\n",
       "      <td>NaN</td>\n",
       "      <td>NaN</td>\n",
       "      <td>NaN</td>\n",
       "      <td>https://twitter.com/dog_rates/status/751583847...</td>\n",
       "      <td>5</td>\n",
       "      <td>10</td>\n",
       "      <td>None</td>\n",
       "      <td>doggo</td>\n",
       "      <td>None</td>\n",
       "      <td>pupper</td>\n",
       "      <td>None</td>\n",
       "    </tr>\n",
       "    <tr>\n",
       "      <th>1069</th>\n",
       "      <td>740365076218183684</td>\n",
       "      <td>NaN</td>\n",
       "      <td>NaN</td>\n",
       "      <td>2016-06-08 02:09:24 +0000</td>\n",
       "      <td>&lt;a href=\"http://twitter.com/download/iphone\" r...</td>\n",
       "      <td>When the photographer forgets to tell you wher...</td>\n",
       "      <td>NaN</td>\n",
       "      <td>NaN</td>\n",
       "      <td>NaN</td>\n",
       "      <td>https://twitter.com/dog_rates/status/740365076...</td>\n",
       "      <td>10</td>\n",
       "      <td>10</td>\n",
       "      <td>None</td>\n",
       "      <td>None</td>\n",
       "      <td>None</td>\n",
       "      <td>None</td>\n",
       "      <td>None</td>\n",
       "    </tr>\n",
       "    <tr>\n",
       "      <th>335</th>\n",
       "      <td>832645525019123713</td>\n",
       "      <td>NaN</td>\n",
       "      <td>NaN</td>\n",
       "      <td>2017-02-17 17:38:57 +0000</td>\n",
       "      <td>&lt;a href=\"http://twitter.com\" rel=\"nofollow\"&gt;Tw...</td>\n",
       "      <td>There's going to be a dog terminal at JFK Airp...</td>\n",
       "      <td>NaN</td>\n",
       "      <td>NaN</td>\n",
       "      <td>NaN</td>\n",
       "      <td>http://us.blastingnews.com/news/2017/02/jfk-an...</td>\n",
       "      <td>10</td>\n",
       "      <td>10</td>\n",
       "      <td>not</td>\n",
       "      <td>None</td>\n",
       "      <td>None</td>\n",
       "      <td>None</td>\n",
       "      <td>None</td>\n",
       "    </tr>\n",
       "    <tr>\n",
       "      <th>2246</th>\n",
       "      <td>667878741721415682</td>\n",
       "      <td>NaN</td>\n",
       "      <td>NaN</td>\n",
       "      <td>2015-11-21 01:34:35 +0000</td>\n",
       "      <td>&lt;a href=\"http://twitter.com/download/iphone\" r...</td>\n",
       "      <td>This is Tedrick. He lives on the edge. Needs s...</td>\n",
       "      <td>NaN</td>\n",
       "      <td>NaN</td>\n",
       "      <td>NaN</td>\n",
       "      <td>https://twitter.com/dog_rates/status/667878741...</td>\n",
       "      <td>2</td>\n",
       "      <td>10</td>\n",
       "      <td>Tedrick</td>\n",
       "      <td>None</td>\n",
       "      <td>None</td>\n",
       "      <td>None</td>\n",
       "      <td>None</td>\n",
       "    </tr>\n",
       "    <tr>\n",
       "      <th>325</th>\n",
       "      <td>833863086058651648</td>\n",
       "      <td>NaN</td>\n",
       "      <td>NaN</td>\n",
       "      <td>2017-02-21 02:17:06 +0000</td>\n",
       "      <td>&lt;a href=\"http://twitter.com/download/iphone\" r...</td>\n",
       "      <td>This is Bentley. Hairbrushes are his favorite ...</td>\n",
       "      <td>NaN</td>\n",
       "      <td>NaN</td>\n",
       "      <td>NaN</td>\n",
       "      <td>https://twitter.com/dog_rates/status/833863086...</td>\n",
       "      <td>12</td>\n",
       "      <td>10</td>\n",
       "      <td>Bentley</td>\n",
       "      <td>None</td>\n",
       "      <td>None</td>\n",
       "      <td>None</td>\n",
       "      <td>None</td>\n",
       "    </tr>\n",
       "    <tr>\n",
       "      <th>553</th>\n",
       "      <td>804026241225523202</td>\n",
       "      <td>NaN</td>\n",
       "      <td>NaN</td>\n",
       "      <td>2016-11-30 18:16:08 +0000</td>\n",
       "      <td>&lt;a href=\"http://twitter.com/download/iphone\" r...</td>\n",
       "      <td>This is Bo. He's going to make me cry. 13/10 p...</td>\n",
       "      <td>NaN</td>\n",
       "      <td>NaN</td>\n",
       "      <td>NaN</td>\n",
       "      <td>https://twitter.com/dog_rates/status/804026241...</td>\n",
       "      <td>13</td>\n",
       "      <td>10</td>\n",
       "      <td>Bo</td>\n",
       "      <td>None</td>\n",
       "      <td>None</td>\n",
       "      <td>None</td>\n",
       "      <td>None</td>\n",
       "    </tr>\n",
       "    <tr>\n",
       "      <th>1833</th>\n",
       "      <td>676146341966438401</td>\n",
       "      <td>NaN</td>\n",
       "      <td>NaN</td>\n",
       "      <td>2015-12-13 21:07:04 +0000</td>\n",
       "      <td>&lt;a href=\"http://twitter.com/download/iphone\" r...</td>\n",
       "      <td>This is Bert. He likes flowers. 10/10 https://...</td>\n",
       "      <td>NaN</td>\n",
       "      <td>NaN</td>\n",
       "      <td>NaN</td>\n",
       "      <td>https://twitter.com/dog_rates/status/676146341...</td>\n",
       "      <td>10</td>\n",
       "      <td>10</td>\n",
       "      <td>Bert</td>\n",
       "      <td>None</td>\n",
       "      <td>None</td>\n",
       "      <td>None</td>\n",
       "      <td>None</td>\n",
       "    </tr>\n",
       "  </tbody>\n",
       "</table>\n",
       "</div>"
      ],
      "text/plain": [
       "                tweet_id  in_reply_to_status_id  in_reply_to_user_id  \\\n",
       "1890  674767892831932416                    NaN                  NaN   \n",
       "1250  711008018775851008                    NaN                  NaN   \n",
       "885   760153949710192640                    NaN                  NaN   \n",
       "956   751583847268179968                    NaN                  NaN   \n",
       "1069  740365076218183684                    NaN                  NaN   \n",
       "335   832645525019123713                    NaN                  NaN   \n",
       "2246  667878741721415682                    NaN                  NaN   \n",
       "325   833863086058651648                    NaN                  NaN   \n",
       "553   804026241225523202                    NaN                  NaN   \n",
       "1833  676146341966438401                    NaN                  NaN   \n",
       "\n",
       "                      timestamp  \\\n",
       "1890  2015-12-10 01:49:36 +0000   \n",
       "1250  2016-03-19 01:54:56 +0000   \n",
       "885   2016-08-01 16:43:19 +0000   \n",
       "956   2016-07-09 01:08:47 +0000   \n",
       "1069  2016-06-08 02:09:24 +0000   \n",
       "335   2017-02-17 17:38:57 +0000   \n",
       "2246  2015-11-21 01:34:35 +0000   \n",
       "325   2017-02-21 02:17:06 +0000   \n",
       "553   2016-11-30 18:16:08 +0000   \n",
       "1833  2015-12-13 21:07:04 +0000   \n",
       "\n",
       "                                                 source  \\\n",
       "1890  <a href=\"http://twitter.com/download/iphone\" r...   \n",
       "1250  <a href=\"http://twitter.com/download/iphone\" r...   \n",
       "885   <a href=\"http://twitter.com/download/iphone\" r...   \n",
       "956   <a href=\"http://twitter.com/download/iphone\" r...   \n",
       "1069  <a href=\"http://twitter.com/download/iphone\" r...   \n",
       "335   <a href=\"http://twitter.com\" rel=\"nofollow\">Tw...   \n",
       "2246  <a href=\"http://twitter.com/download/iphone\" r...   \n",
       "325   <a href=\"http://twitter.com/download/iphone\" r...   \n",
       "553   <a href=\"http://twitter.com/download/iphone\" r...   \n",
       "1833  <a href=\"http://twitter.com/download/iphone\" r...   \n",
       "\n",
       "                                                   text  retweeted_status_id  \\\n",
       "1890  This pup was carefully tossed to make it look ...                  NaN   \n",
       "1250  This is Chuckles. He had a balloon but he acci...                  NaN   \n",
       "885   RT @hownottodraw: The story/person behind @dog...         7.601538e+17   \n",
       "956   Please stop sending it pictures that don't eve...                  NaN   \n",
       "1069  When the photographer forgets to tell you wher...                  NaN   \n",
       "335   There's going to be a dog terminal at JFK Airp...                  NaN   \n",
       "2246  This is Tedrick. He lives on the edge. Needs s...                  NaN   \n",
       "325   This is Bentley. Hairbrushes are his favorite ...                  NaN   \n",
       "553   This is Bo. He's going to make me cry. 13/10 p...                  NaN   \n",
       "1833  This is Bert. He likes flowers. 10/10 https://...                  NaN   \n",
       "\n",
       "      retweeted_status_user_id retweeted_status_timestamp  \\\n",
       "1890                       NaN                        NaN   \n",
       "1250                       NaN                        NaN   \n",
       "885                195036846.0  2016-08-01 16:42:51 +0000   \n",
       "956                        NaN                        NaN   \n",
       "1069                       NaN                        NaN   \n",
       "335                        NaN                        NaN   \n",
       "2246                       NaN                        NaN   \n",
       "325                        NaN                        NaN   \n",
       "553                        NaN                        NaN   \n",
       "1833                       NaN                        NaN   \n",
       "\n",
       "                                          expanded_urls  rating_numerator  \\\n",
       "1890  https://twitter.com/dog_rates/status/674767892...                12   \n",
       "1250  https://twitter.com/dog_rates/status/711008018...                11   \n",
       "885   https://weratedogs.com/pages/about-us,https://...                11   \n",
       "956   https://twitter.com/dog_rates/status/751583847...                 5   \n",
       "1069  https://twitter.com/dog_rates/status/740365076...                10   \n",
       "335   http://us.blastingnews.com/news/2017/02/jfk-an...                10   \n",
       "2246  https://twitter.com/dog_rates/status/667878741...                 2   \n",
       "325   https://twitter.com/dog_rates/status/833863086...                12   \n",
       "553   https://twitter.com/dog_rates/status/804026241...                13   \n",
       "1833  https://twitter.com/dog_rates/status/676146341...                10   \n",
       "\n",
       "      rating_denominator      name  doggo floofer  pupper puppo  \n",
       "1890                  10      None   None    None    None  None  \n",
       "1250                  10  Chuckles   None    None  pupper  None  \n",
       "885                   10      None   None    None    None  None  \n",
       "956                   10      None  doggo    None  pupper  None  \n",
       "1069                  10      None   None    None    None  None  \n",
       "335                   10       not   None    None    None  None  \n",
       "2246                  10   Tedrick   None    None    None  None  \n",
       "325                   10   Bentley   None    None    None  None  \n",
       "553                   10        Bo   None    None    None  None  \n",
       "1833                  10      Bert   None    None    None  None  "
      ]
     },
     "execution_count": 9,
     "metadata": {},
     "output_type": "execute_result"
    }
   ],
   "source": [
    "#visual inspection of a sample set of rows from the dataset\n",
    "\n",
    "twt_arch.sample(10)"
   ]
  },
  {
   "cell_type": "code",
   "execution_count": 10,
   "metadata": {},
   "outputs": [
    {
     "name": "stdout",
     "output_type": "stream",
     "text": [
      "<class 'pandas.core.frame.DataFrame'>\n",
      "RangeIndex: 2356 entries, 0 to 2355\n",
      "Data columns (total 17 columns):\n",
      "tweet_id                      2356 non-null int64\n",
      "in_reply_to_status_id         78 non-null float64\n",
      "in_reply_to_user_id           78 non-null float64\n",
      "timestamp                     2356 non-null object\n",
      "source                        2356 non-null object\n",
      "text                          2356 non-null object\n",
      "retweeted_status_id           181 non-null float64\n",
      "retweeted_status_user_id      181 non-null float64\n",
      "retweeted_status_timestamp    181 non-null object\n",
      "expanded_urls                 2297 non-null object\n",
      "rating_numerator              2356 non-null int64\n",
      "rating_denominator            2356 non-null int64\n",
      "name                          2356 non-null object\n",
      "doggo                         2356 non-null object\n",
      "floofer                       2356 non-null object\n",
      "pupper                        2356 non-null object\n",
      "puppo                         2356 non-null object\n",
      "dtypes: float64(4), int64(3), object(10)\n",
      "memory usage: 313.0+ KB\n"
     ]
    }
   ],
   "source": [
    "#check column values\n",
    "\n",
    "twt_arch.info()"
   ]
  },
  {
   "cell_type": "code",
   "execution_count": 11,
   "metadata": {},
   "outputs": [
    {
     "name": "stdout",
     "output_type": "stream",
     "text": [
      "0\n"
     ]
    },
    {
     "data": {
      "text/html": [
       "<div>\n",
       "<style scoped>\n",
       "    .dataframe tbody tr th:only-of-type {\n",
       "        vertical-align: middle;\n",
       "    }\n",
       "\n",
       "    .dataframe tbody tr th {\n",
       "        vertical-align: top;\n",
       "    }\n",
       "\n",
       "    .dataframe thead th {\n",
       "        text-align: right;\n",
       "    }\n",
       "</style>\n",
       "<table border=\"1\" class=\"dataframe\">\n",
       "  <thead>\n",
       "    <tr style=\"text-align: right;\">\n",
       "      <th></th>\n",
       "      <th>tweet_id</th>\n",
       "      <th>in_reply_to_status_id</th>\n",
       "      <th>in_reply_to_user_id</th>\n",
       "      <th>timestamp</th>\n",
       "      <th>source</th>\n",
       "      <th>text</th>\n",
       "      <th>retweeted_status_id</th>\n",
       "      <th>retweeted_status_user_id</th>\n",
       "      <th>retweeted_status_timestamp</th>\n",
       "      <th>expanded_urls</th>\n",
       "      <th>rating_numerator</th>\n",
       "      <th>rating_denominator</th>\n",
       "      <th>name</th>\n",
       "      <th>doggo</th>\n",
       "      <th>floofer</th>\n",
       "      <th>pupper</th>\n",
       "      <th>puppo</th>\n",
       "    </tr>\n",
       "  </thead>\n",
       "  <tbody>\n",
       "  </tbody>\n",
       "</table>\n",
       "</div>"
      ],
      "text/plain": [
       "Empty DataFrame\n",
       "Columns: [tweet_id, in_reply_to_status_id, in_reply_to_user_id, timestamp, source, text, retweeted_status_id, retweeted_status_user_id, retweeted_status_timestamp, expanded_urls, rating_numerator, rating_denominator, name, doggo, floofer, pupper, puppo]\n",
       "Index: []"
      ]
     },
     "execution_count": 11,
     "metadata": {},
     "output_type": "execute_result"
    }
   ],
   "source": [
    "#check for duplicates\n",
    "\n",
    "print(sum(twt_arch.duplicated()))\n",
    "twt_arch[twt_arch.duplicated()]"
   ]
  },
  {
   "cell_type": "code",
   "execution_count": 12,
   "metadata": {},
   "outputs": [
    {
     "data": {
      "text/html": [
       "<div>\n",
       "<style scoped>\n",
       "    .dataframe tbody tr th:only-of-type {\n",
       "        vertical-align: middle;\n",
       "    }\n",
       "\n",
       "    .dataframe tbody tr th {\n",
       "        vertical-align: top;\n",
       "    }\n",
       "\n",
       "    .dataframe thead th {\n",
       "        text-align: right;\n",
       "    }\n",
       "</style>\n",
       "<table border=\"1\" class=\"dataframe\">\n",
       "  <thead>\n",
       "    <tr style=\"text-align: right;\">\n",
       "      <th></th>\n",
       "      <th>tweet_id</th>\n",
       "      <th>in_reply_to_status_id</th>\n",
       "      <th>in_reply_to_user_id</th>\n",
       "      <th>retweeted_status_id</th>\n",
       "      <th>retweeted_status_user_id</th>\n",
       "      <th>rating_numerator</th>\n",
       "      <th>rating_denominator</th>\n",
       "    </tr>\n",
       "  </thead>\n",
       "  <tbody>\n",
       "    <tr>\n",
       "      <th>count</th>\n",
       "      <td>2.356000e+03</td>\n",
       "      <td>7.800000e+01</td>\n",
       "      <td>7.800000e+01</td>\n",
       "      <td>1.810000e+02</td>\n",
       "      <td>1.810000e+02</td>\n",
       "      <td>2356.000000</td>\n",
       "      <td>2356.000000</td>\n",
       "    </tr>\n",
       "    <tr>\n",
       "      <th>mean</th>\n",
       "      <td>7.427716e+17</td>\n",
       "      <td>7.455079e+17</td>\n",
       "      <td>2.014171e+16</td>\n",
       "      <td>7.720400e+17</td>\n",
       "      <td>1.241698e+16</td>\n",
       "      <td>13.126486</td>\n",
       "      <td>10.455433</td>\n",
       "    </tr>\n",
       "    <tr>\n",
       "      <th>std</th>\n",
       "      <td>6.856705e+16</td>\n",
       "      <td>7.582492e+16</td>\n",
       "      <td>1.252797e+17</td>\n",
       "      <td>6.236928e+16</td>\n",
       "      <td>9.599254e+16</td>\n",
       "      <td>45.876648</td>\n",
       "      <td>6.745237</td>\n",
       "    </tr>\n",
       "    <tr>\n",
       "      <th>min</th>\n",
       "      <td>6.660209e+17</td>\n",
       "      <td>6.658147e+17</td>\n",
       "      <td>1.185634e+07</td>\n",
       "      <td>6.661041e+17</td>\n",
       "      <td>7.832140e+05</td>\n",
       "      <td>0.000000</td>\n",
       "      <td>0.000000</td>\n",
       "    </tr>\n",
       "    <tr>\n",
       "      <th>25%</th>\n",
       "      <td>6.783989e+17</td>\n",
       "      <td>6.757419e+17</td>\n",
       "      <td>3.086374e+08</td>\n",
       "      <td>7.186315e+17</td>\n",
       "      <td>4.196984e+09</td>\n",
       "      <td>10.000000</td>\n",
       "      <td>10.000000</td>\n",
       "    </tr>\n",
       "    <tr>\n",
       "      <th>50%</th>\n",
       "      <td>7.196279e+17</td>\n",
       "      <td>7.038708e+17</td>\n",
       "      <td>4.196984e+09</td>\n",
       "      <td>7.804657e+17</td>\n",
       "      <td>4.196984e+09</td>\n",
       "      <td>11.000000</td>\n",
       "      <td>10.000000</td>\n",
       "    </tr>\n",
       "    <tr>\n",
       "      <th>75%</th>\n",
       "      <td>7.993373e+17</td>\n",
       "      <td>8.257804e+17</td>\n",
       "      <td>4.196984e+09</td>\n",
       "      <td>8.203146e+17</td>\n",
       "      <td>4.196984e+09</td>\n",
       "      <td>12.000000</td>\n",
       "      <td>10.000000</td>\n",
       "    </tr>\n",
       "    <tr>\n",
       "      <th>max</th>\n",
       "      <td>8.924206e+17</td>\n",
       "      <td>8.862664e+17</td>\n",
       "      <td>8.405479e+17</td>\n",
       "      <td>8.874740e+17</td>\n",
       "      <td>7.874618e+17</td>\n",
       "      <td>1776.000000</td>\n",
       "      <td>170.000000</td>\n",
       "    </tr>\n",
       "  </tbody>\n",
       "</table>\n",
       "</div>"
      ],
      "text/plain": [
       "           tweet_id  in_reply_to_status_id  in_reply_to_user_id  \\\n",
       "count  2.356000e+03           7.800000e+01         7.800000e+01   \n",
       "mean   7.427716e+17           7.455079e+17         2.014171e+16   \n",
       "std    6.856705e+16           7.582492e+16         1.252797e+17   \n",
       "min    6.660209e+17           6.658147e+17         1.185634e+07   \n",
       "25%    6.783989e+17           6.757419e+17         3.086374e+08   \n",
       "50%    7.196279e+17           7.038708e+17         4.196984e+09   \n",
       "75%    7.993373e+17           8.257804e+17         4.196984e+09   \n",
       "max    8.924206e+17           8.862664e+17         8.405479e+17   \n",
       "\n",
       "       retweeted_status_id  retweeted_status_user_id  rating_numerator  \\\n",
       "count         1.810000e+02              1.810000e+02       2356.000000   \n",
       "mean          7.720400e+17              1.241698e+16         13.126486   \n",
       "std           6.236928e+16              9.599254e+16         45.876648   \n",
       "min           6.661041e+17              7.832140e+05          0.000000   \n",
       "25%           7.186315e+17              4.196984e+09         10.000000   \n",
       "50%           7.804657e+17              4.196984e+09         11.000000   \n",
       "75%           8.203146e+17              4.196984e+09         12.000000   \n",
       "max           8.874740e+17              7.874618e+17       1776.000000   \n",
       "\n",
       "       rating_denominator  \n",
       "count         2356.000000  \n",
       "mean            10.455433  \n",
       "std              6.745237  \n",
       "min              0.000000  \n",
       "25%             10.000000  \n",
       "50%             10.000000  \n",
       "75%             10.000000  \n",
       "max            170.000000  "
      ]
     },
     "execution_count": 12,
     "metadata": {},
     "output_type": "execute_result"
    }
   ],
   "source": [
    "#summary statistics\n",
    "\n",
    "twt_arch.describe()"
   ]
  },
  {
   "cell_type": "markdown",
   "metadata": {},
   "source": [
    "#### Image Predictions"
   ]
  },
  {
   "cell_type": "code",
   "execution_count": 13,
   "metadata": {},
   "outputs": [
    {
     "data": {
      "text/html": [
       "<div>\n",
       "<style scoped>\n",
       "    .dataframe tbody tr th:only-of-type {\n",
       "        vertical-align: middle;\n",
       "    }\n",
       "\n",
       "    .dataframe tbody tr th {\n",
       "        vertical-align: top;\n",
       "    }\n",
       "\n",
       "    .dataframe thead th {\n",
       "        text-align: right;\n",
       "    }\n",
       "</style>\n",
       "<table border=\"1\" class=\"dataframe\">\n",
       "  <thead>\n",
       "    <tr style=\"text-align: right;\">\n",
       "      <th></th>\n",
       "      <th>tweet_id</th>\n",
       "      <th>jpg_url</th>\n",
       "      <th>img_num</th>\n",
       "      <th>p1</th>\n",
       "      <th>p1_conf</th>\n",
       "      <th>p1_dog</th>\n",
       "      <th>p2</th>\n",
       "      <th>p2_conf</th>\n",
       "      <th>p2_dog</th>\n",
       "      <th>p3</th>\n",
       "      <th>p3_conf</th>\n",
       "      <th>p3_dog</th>\n",
       "    </tr>\n",
       "  </thead>\n",
       "  <tbody>\n",
       "    <tr>\n",
       "      <th>222</th>\n",
       "      <td>670290420111441920</td>\n",
       "      <td>https://pbs.twimg.com/media/CU1Zgk7UcAAjw2t.jpg</td>\n",
       "      <td>1</td>\n",
       "      <td>Chihuahua</td>\n",
       "      <td>0.368876</td>\n",
       "      <td>True</td>\n",
       "      <td>Pomeranian</td>\n",
       "      <td>0.282102</td>\n",
       "      <td>True</td>\n",
       "      <td>papillon</td>\n",
       "      <td>0.178795</td>\n",
       "      <td>True</td>\n",
       "    </tr>\n",
       "    <tr>\n",
       "      <th>820</th>\n",
       "      <td>692919143163629568</td>\n",
       "      <td>https://pbs.twimg.com/media/CZ2-SRiWcAIjuM5.jpg</td>\n",
       "      <td>1</td>\n",
       "      <td>Saint_Bernard</td>\n",
       "      <td>0.612635</td>\n",
       "      <td>True</td>\n",
       "      <td>English_springer</td>\n",
       "      <td>0.269744</td>\n",
       "      <td>True</td>\n",
       "      <td>boxer</td>\n",
       "      <td>0.048666</td>\n",
       "      <td>True</td>\n",
       "    </tr>\n",
       "    <tr>\n",
       "      <th>1248</th>\n",
       "      <td>747816857231626240</td>\n",
       "      <td>https://pbs.twimg.com/media/CmDHdCoWkAACTB4.jpg</td>\n",
       "      <td>1</td>\n",
       "      <td>Pembroke</td>\n",
       "      <td>0.768923</td>\n",
       "      <td>True</td>\n",
       "      <td>Chihuahua</td>\n",
       "      <td>0.029053</td>\n",
       "      <td>True</td>\n",
       "      <td>Shetland_sheepdog</td>\n",
       "      <td>0.029035</td>\n",
       "      <td>True</td>\n",
       "    </tr>\n",
       "    <tr>\n",
       "      <th>407</th>\n",
       "      <td>673709992831262724</td>\n",
       "      <td>https://pbs.twimg.com/media/CVl_qbjW4AA8Mam.jpg</td>\n",
       "      <td>1</td>\n",
       "      <td>Chihuahua</td>\n",
       "      <td>0.330171</td>\n",
       "      <td>True</td>\n",
       "      <td>Siamese_cat</td>\n",
       "      <td>0.181580</td>\n",
       "      <td>False</td>\n",
       "      <td>kelpie</td>\n",
       "      <td>0.178227</td>\n",
       "      <td>True</td>\n",
       "    </tr>\n",
       "    <tr>\n",
       "      <th>326</th>\n",
       "      <td>671891728106971137</td>\n",
       "      <td>https://pbs.twimg.com/media/CVMJ9guXAAAhAiK.jpg</td>\n",
       "      <td>1</td>\n",
       "      <td>Labrador_retriever</td>\n",
       "      <td>0.567933</td>\n",
       "      <td>True</td>\n",
       "      <td>golden_retriever</td>\n",
       "      <td>0.349401</td>\n",
       "      <td>True</td>\n",
       "      <td>seat_belt</td>\n",
       "      <td>0.069396</td>\n",
       "      <td>False</td>\n",
       "    </tr>\n",
       "    <tr>\n",
       "      <th>1022</th>\n",
       "      <td>710272297844797440</td>\n",
       "      <td>https://pbs.twimg.com/media/Cdtk414WoAIUG0v.jpg</td>\n",
       "      <td>1</td>\n",
       "      <td>Old_English_sheepdog</td>\n",
       "      <td>0.586307</td>\n",
       "      <td>True</td>\n",
       "      <td>wire-haired_fox_terrier</td>\n",
       "      <td>0.118622</td>\n",
       "      <td>True</td>\n",
       "      <td>Lakeland_terrier</td>\n",
       "      <td>0.106806</td>\n",
       "      <td>True</td>\n",
       "    </tr>\n",
       "    <tr>\n",
       "      <th>148</th>\n",
       "      <td>668633411083464705</td>\n",
       "      <td>https://pbs.twimg.com/media/CUd2ieCUcAAexyT.jpg</td>\n",
       "      <td>1</td>\n",
       "      <td>Pekinese</td>\n",
       "      <td>0.589011</td>\n",
       "      <td>True</td>\n",
       "      <td>Shih-Tzu</td>\n",
       "      <td>0.390987</td>\n",
       "      <td>True</td>\n",
       "      <td>Japanese_spaniel</td>\n",
       "      <td>0.003310</td>\n",
       "      <td>True</td>\n",
       "    </tr>\n",
       "    <tr>\n",
       "      <th>1979</th>\n",
       "      <td>870804317367881728</td>\n",
       "      <td>https://pbs.twimg.com/media/DBW35ZsVoAEWZUU.jpg</td>\n",
       "      <td>1</td>\n",
       "      <td>home_theater</td>\n",
       "      <td>0.168290</td>\n",
       "      <td>False</td>\n",
       "      <td>sandbar</td>\n",
       "      <td>0.098040</td>\n",
       "      <td>False</td>\n",
       "      <td>television</td>\n",
       "      <td>0.079729</td>\n",
       "      <td>False</td>\n",
       "    </tr>\n",
       "    <tr>\n",
       "      <th>903</th>\n",
       "      <td>700062718104104960</td>\n",
       "      <td>https://pbs.twimg.com/media/CbcfUxoUAAAlHGK.jpg</td>\n",
       "      <td>1</td>\n",
       "      <td>hummingbird</td>\n",
       "      <td>0.180998</td>\n",
       "      <td>False</td>\n",
       "      <td>peacock</td>\n",
       "      <td>0.135179</td>\n",
       "      <td>False</td>\n",
       "      <td>eel</td>\n",
       "      <td>0.075371</td>\n",
       "      <td>False</td>\n",
       "    </tr>\n",
       "    <tr>\n",
       "      <th>674</th>\n",
       "      <td>683391852557561860</td>\n",
       "      <td>https://pbs.twimg.com/media/CXvlQ2zW8AAE0tp.jpg</td>\n",
       "      <td>1</td>\n",
       "      <td>French_bulldog</td>\n",
       "      <td>0.992833</td>\n",
       "      <td>True</td>\n",
       "      <td>Boston_bull</td>\n",
       "      <td>0.004749</td>\n",
       "      <td>True</td>\n",
       "      <td>pug</td>\n",
       "      <td>0.001392</td>\n",
       "      <td>True</td>\n",
       "    </tr>\n",
       "  </tbody>\n",
       "</table>\n",
       "</div>"
      ],
      "text/plain": [
       "                tweet_id                                          jpg_url  \\\n",
       "222   670290420111441920  https://pbs.twimg.com/media/CU1Zgk7UcAAjw2t.jpg   \n",
       "820   692919143163629568  https://pbs.twimg.com/media/CZ2-SRiWcAIjuM5.jpg   \n",
       "1248  747816857231626240  https://pbs.twimg.com/media/CmDHdCoWkAACTB4.jpg   \n",
       "407   673709992831262724  https://pbs.twimg.com/media/CVl_qbjW4AA8Mam.jpg   \n",
       "326   671891728106971137  https://pbs.twimg.com/media/CVMJ9guXAAAhAiK.jpg   \n",
       "1022  710272297844797440  https://pbs.twimg.com/media/Cdtk414WoAIUG0v.jpg   \n",
       "148   668633411083464705  https://pbs.twimg.com/media/CUd2ieCUcAAexyT.jpg   \n",
       "1979  870804317367881728  https://pbs.twimg.com/media/DBW35ZsVoAEWZUU.jpg   \n",
       "903   700062718104104960  https://pbs.twimg.com/media/CbcfUxoUAAAlHGK.jpg   \n",
       "674   683391852557561860  https://pbs.twimg.com/media/CXvlQ2zW8AAE0tp.jpg   \n",
       "\n",
       "      img_num                    p1   p1_conf  p1_dog  \\\n",
       "222         1             Chihuahua  0.368876    True   \n",
       "820         1         Saint_Bernard  0.612635    True   \n",
       "1248        1              Pembroke  0.768923    True   \n",
       "407         1             Chihuahua  0.330171    True   \n",
       "326         1    Labrador_retriever  0.567933    True   \n",
       "1022        1  Old_English_sheepdog  0.586307    True   \n",
       "148         1              Pekinese  0.589011    True   \n",
       "1979        1          home_theater  0.168290   False   \n",
       "903         1           hummingbird  0.180998   False   \n",
       "674         1        French_bulldog  0.992833    True   \n",
       "\n",
       "                           p2   p2_conf  p2_dog                 p3   p3_conf  \\\n",
       "222                Pomeranian  0.282102    True           papillon  0.178795   \n",
       "820          English_springer  0.269744    True              boxer  0.048666   \n",
       "1248                Chihuahua  0.029053    True  Shetland_sheepdog  0.029035   \n",
       "407               Siamese_cat  0.181580   False             kelpie  0.178227   \n",
       "326          golden_retriever  0.349401    True          seat_belt  0.069396   \n",
       "1022  wire-haired_fox_terrier  0.118622    True   Lakeland_terrier  0.106806   \n",
       "148                  Shih-Tzu  0.390987    True   Japanese_spaniel  0.003310   \n",
       "1979                  sandbar  0.098040   False         television  0.079729   \n",
       "903                   peacock  0.135179   False                eel  0.075371   \n",
       "674               Boston_bull  0.004749    True                pug  0.001392   \n",
       "\n",
       "      p3_dog  \n",
       "222     True  \n",
       "820     True  \n",
       "1248    True  \n",
       "407     True  \n",
       "326    False  \n",
       "1022    True  \n",
       "148     True  \n",
       "1979   False  \n",
       "903    False  \n",
       "674     True  "
      ]
     },
     "execution_count": 13,
     "metadata": {},
     "output_type": "execute_result"
    }
   ],
   "source": [
    "#visual inspection of a sample set of rows from the dataset\n",
    "\n",
    "img_pred.sample(10)"
   ]
  },
  {
   "cell_type": "code",
   "execution_count": 14,
   "metadata": {},
   "outputs": [
    {
     "name": "stdout",
     "output_type": "stream",
     "text": [
      "<class 'pandas.core.frame.DataFrame'>\n",
      "RangeIndex: 2075 entries, 0 to 2074\n",
      "Data columns (total 12 columns):\n",
      "tweet_id    2075 non-null int64\n",
      "jpg_url     2075 non-null object\n",
      "img_num     2075 non-null int64\n",
      "p1          2075 non-null object\n",
      "p1_conf     2075 non-null float64\n",
      "p1_dog      2075 non-null bool\n",
      "p2          2075 non-null object\n",
      "p2_conf     2075 non-null float64\n",
      "p2_dog      2075 non-null bool\n",
      "p3          2075 non-null object\n",
      "p3_conf     2075 non-null float64\n",
      "p3_dog      2075 non-null bool\n",
      "dtypes: bool(3), float64(3), int64(2), object(4)\n",
      "memory usage: 152.1+ KB\n"
     ]
    }
   ],
   "source": [
    "#check column values\n",
    "\n",
    "img_pred.info()"
   ]
  },
  {
   "cell_type": "code",
   "execution_count": 15,
   "metadata": {
    "scrolled": true
   },
   "outputs": [
    {
     "name": "stdout",
     "output_type": "stream",
     "text": [
      "0\n"
     ]
    },
    {
     "data": {
      "text/html": [
       "<div>\n",
       "<style scoped>\n",
       "    .dataframe tbody tr th:only-of-type {\n",
       "        vertical-align: middle;\n",
       "    }\n",
       "\n",
       "    .dataframe tbody tr th {\n",
       "        vertical-align: top;\n",
       "    }\n",
       "\n",
       "    .dataframe thead th {\n",
       "        text-align: right;\n",
       "    }\n",
       "</style>\n",
       "<table border=\"1\" class=\"dataframe\">\n",
       "  <thead>\n",
       "    <tr style=\"text-align: right;\">\n",
       "      <th></th>\n",
       "      <th>tweet_id</th>\n",
       "      <th>jpg_url</th>\n",
       "      <th>img_num</th>\n",
       "      <th>p1</th>\n",
       "      <th>p1_conf</th>\n",
       "      <th>p1_dog</th>\n",
       "      <th>p2</th>\n",
       "      <th>p2_conf</th>\n",
       "      <th>p2_dog</th>\n",
       "      <th>p3</th>\n",
       "      <th>p3_conf</th>\n",
       "      <th>p3_dog</th>\n",
       "    </tr>\n",
       "  </thead>\n",
       "  <tbody>\n",
       "  </tbody>\n",
       "</table>\n",
       "</div>"
      ],
      "text/plain": [
       "Empty DataFrame\n",
       "Columns: [tweet_id, jpg_url, img_num, p1, p1_conf, p1_dog, p2, p2_conf, p2_dog, p3, p3_conf, p3_dog]\n",
       "Index: []"
      ]
     },
     "execution_count": 15,
     "metadata": {},
     "output_type": "execute_result"
    }
   ],
   "source": [
    "#check for duplicates\n",
    "\n",
    "print(sum(img_pred.duplicated()))\n",
    "img_pred[img_pred.duplicated()]"
   ]
  },
  {
   "cell_type": "code",
   "execution_count": 16,
   "metadata": {},
   "outputs": [
    {
     "data": {
      "text/html": [
       "<div>\n",
       "<style scoped>\n",
       "    .dataframe tbody tr th:only-of-type {\n",
       "        vertical-align: middle;\n",
       "    }\n",
       "\n",
       "    .dataframe tbody tr th {\n",
       "        vertical-align: top;\n",
       "    }\n",
       "\n",
       "    .dataframe thead th {\n",
       "        text-align: right;\n",
       "    }\n",
       "</style>\n",
       "<table border=\"1\" class=\"dataframe\">\n",
       "  <thead>\n",
       "    <tr style=\"text-align: right;\">\n",
       "      <th></th>\n",
       "      <th>tweet_id</th>\n",
       "      <th>img_num</th>\n",
       "      <th>p1_conf</th>\n",
       "      <th>p2_conf</th>\n",
       "      <th>p3_conf</th>\n",
       "    </tr>\n",
       "  </thead>\n",
       "  <tbody>\n",
       "    <tr>\n",
       "      <th>count</th>\n",
       "      <td>2.075000e+03</td>\n",
       "      <td>2075.000000</td>\n",
       "      <td>2075.000000</td>\n",
       "      <td>2.075000e+03</td>\n",
       "      <td>2.075000e+03</td>\n",
       "    </tr>\n",
       "    <tr>\n",
       "      <th>mean</th>\n",
       "      <td>7.384514e+17</td>\n",
       "      <td>1.203855</td>\n",
       "      <td>0.594548</td>\n",
       "      <td>1.345886e-01</td>\n",
       "      <td>6.032417e-02</td>\n",
       "    </tr>\n",
       "    <tr>\n",
       "      <th>std</th>\n",
       "      <td>6.785203e+16</td>\n",
       "      <td>0.561875</td>\n",
       "      <td>0.271174</td>\n",
       "      <td>1.006657e-01</td>\n",
       "      <td>5.090593e-02</td>\n",
       "    </tr>\n",
       "    <tr>\n",
       "      <th>min</th>\n",
       "      <td>6.660209e+17</td>\n",
       "      <td>1.000000</td>\n",
       "      <td>0.044333</td>\n",
       "      <td>1.011300e-08</td>\n",
       "      <td>1.740170e-10</td>\n",
       "    </tr>\n",
       "    <tr>\n",
       "      <th>25%</th>\n",
       "      <td>6.764835e+17</td>\n",
       "      <td>1.000000</td>\n",
       "      <td>0.364412</td>\n",
       "      <td>5.388625e-02</td>\n",
       "      <td>1.622240e-02</td>\n",
       "    </tr>\n",
       "    <tr>\n",
       "      <th>50%</th>\n",
       "      <td>7.119988e+17</td>\n",
       "      <td>1.000000</td>\n",
       "      <td>0.588230</td>\n",
       "      <td>1.181810e-01</td>\n",
       "      <td>4.944380e-02</td>\n",
       "    </tr>\n",
       "    <tr>\n",
       "      <th>75%</th>\n",
       "      <td>7.932034e+17</td>\n",
       "      <td>1.000000</td>\n",
       "      <td>0.843855</td>\n",
       "      <td>1.955655e-01</td>\n",
       "      <td>9.180755e-02</td>\n",
       "    </tr>\n",
       "    <tr>\n",
       "      <th>max</th>\n",
       "      <td>8.924206e+17</td>\n",
       "      <td>4.000000</td>\n",
       "      <td>1.000000</td>\n",
       "      <td>4.880140e-01</td>\n",
       "      <td>2.734190e-01</td>\n",
       "    </tr>\n",
       "  </tbody>\n",
       "</table>\n",
       "</div>"
      ],
      "text/plain": [
       "           tweet_id      img_num      p1_conf       p2_conf       p3_conf\n",
       "count  2.075000e+03  2075.000000  2075.000000  2.075000e+03  2.075000e+03\n",
       "mean   7.384514e+17     1.203855     0.594548  1.345886e-01  6.032417e-02\n",
       "std    6.785203e+16     0.561875     0.271174  1.006657e-01  5.090593e-02\n",
       "min    6.660209e+17     1.000000     0.044333  1.011300e-08  1.740170e-10\n",
       "25%    6.764835e+17     1.000000     0.364412  5.388625e-02  1.622240e-02\n",
       "50%    7.119988e+17     1.000000     0.588230  1.181810e-01  4.944380e-02\n",
       "75%    7.932034e+17     1.000000     0.843855  1.955655e-01  9.180755e-02\n",
       "max    8.924206e+17     4.000000     1.000000  4.880140e-01  2.734190e-01"
      ]
     },
     "execution_count": 16,
     "metadata": {},
     "output_type": "execute_result"
    }
   ],
   "source": [
    "#summary statistics\n",
    "\n",
    "img_pred.describe()"
   ]
  },
  {
   "cell_type": "code",
   "execution_count": 17,
   "metadata": {},
   "outputs": [
    {
     "data": {
      "text/plain": [
       "True     1532\n",
       "False     543\n",
       "Name: p1_dog, dtype: int64"
      ]
     },
     "execution_count": 17,
     "metadata": {},
     "output_type": "execute_result"
    }
   ],
   "source": [
    "#see how many non-dog values are contained in highest confidence level column\n",
    "\n",
    "img_pred.p1_dog.value_counts()"
   ]
  },
  {
   "cell_type": "markdown",
   "metadata": {},
   "source": [
    "#### Twitter API Data"
   ]
  },
  {
   "cell_type": "code",
   "execution_count": 18,
   "metadata": {},
   "outputs": [
    {
     "data": {
      "text/html": [
       "<div>\n",
       "<style scoped>\n",
       "    .dataframe tbody tr th:only-of-type {\n",
       "        vertical-align: middle;\n",
       "    }\n",
       "\n",
       "    .dataframe tbody tr th {\n",
       "        vertical-align: top;\n",
       "    }\n",
       "\n",
       "    .dataframe thead th {\n",
       "        text-align: right;\n",
       "    }\n",
       "</style>\n",
       "<table border=\"1\" class=\"dataframe\">\n",
       "  <thead>\n",
       "    <tr style=\"text-align: right;\">\n",
       "      <th></th>\n",
       "      <th>tweet_id</th>\n",
       "      <th>retweet_count</th>\n",
       "      <th>favorite_count</th>\n",
       "    </tr>\n",
       "  </thead>\n",
       "  <tbody>\n",
       "    <tr>\n",
       "      <th>345</th>\n",
       "      <td>830173239259324417</td>\n",
       "      <td>6059</td>\n",
       "      <td>0</td>\n",
       "    </tr>\n",
       "    <tr>\n",
       "      <th>160</th>\n",
       "      <td>859851578198683649</td>\n",
       "      <td>3518</td>\n",
       "      <td>15332</td>\n",
       "    </tr>\n",
       "    <tr>\n",
       "      <th>609</th>\n",
       "      <td>795464331001561088</td>\n",
       "      <td>25772</td>\n",
       "      <td>52631</td>\n",
       "    </tr>\n",
       "    <tr>\n",
       "      <th>1941</th>\n",
       "      <td>673363615379013632</td>\n",
       "      <td>310</td>\n",
       "      <td>1028</td>\n",
       "    </tr>\n",
       "    <tr>\n",
       "      <th>591</th>\n",
       "      <td>798340744599797760</td>\n",
       "      <td>3627</td>\n",
       "      <td>0</td>\n",
       "    </tr>\n",
       "    <tr>\n",
       "      <th>945</th>\n",
       "      <td>750719632563142656</td>\n",
       "      <td>5343</td>\n",
       "      <td>13735</td>\n",
       "    </tr>\n",
       "    <tr>\n",
       "      <th>495</th>\n",
       "      <td>812466873996607488</td>\n",
       "      <td>2080</td>\n",
       "      <td>8421</td>\n",
       "    </tr>\n",
       "    <tr>\n",
       "      <th>657</th>\n",
       "      <td>789903600034189313</td>\n",
       "      <td>4458</td>\n",
       "      <td>10973</td>\n",
       "    </tr>\n",
       "    <tr>\n",
       "      <th>1810</th>\n",
       "      <td>676237365392908289</td>\n",
       "      <td>303</td>\n",
       "      <td>1247</td>\n",
       "    </tr>\n",
       "    <tr>\n",
       "      <th>400</th>\n",
       "      <td>822872901745569793</td>\n",
       "      <td>46976</td>\n",
       "      <td>138375</td>\n",
       "    </tr>\n",
       "  </tbody>\n",
       "</table>\n",
       "</div>"
      ],
      "text/plain": [
       "                tweet_id  retweet_count  favorite_count\n",
       "345   830173239259324417           6059               0\n",
       "160   859851578198683649           3518           15332\n",
       "609   795464331001561088          25772           52631\n",
       "1941  673363615379013632            310            1028\n",
       "591   798340744599797760           3627               0\n",
       "945   750719632563142656           5343           13735\n",
       "495   812466873996607488           2080            8421\n",
       "657   789903600034189313           4458           10973\n",
       "1810  676237365392908289            303            1247\n",
       "400   822872901745569793          46976          138375"
      ]
     },
     "execution_count": 18,
     "metadata": {},
     "output_type": "execute_result"
    }
   ],
   "source": [
    "#visual inspection of a sample set of rows from the dataset\n",
    "\n",
    "tw_df.sample(10)"
   ]
  },
  {
   "cell_type": "code",
   "execution_count": 19,
   "metadata": {},
   "outputs": [
    {
     "name": "stdout",
     "output_type": "stream",
     "text": [
      "<class 'pandas.core.frame.DataFrame'>\n",
      "RangeIndex: 2337 entries, 0 to 2336\n",
      "Data columns (total 3 columns):\n",
      "tweet_id          2337 non-null int64\n",
      "retweet_count     2337 non-null int64\n",
      "favorite_count    2337 non-null int64\n",
      "dtypes: int64(3)\n",
      "memory usage: 54.9 KB\n"
     ]
    }
   ],
   "source": [
    "#check column values\n",
    "\n",
    "tw_df.info()"
   ]
  },
  {
   "cell_type": "code",
   "execution_count": 20,
   "metadata": {},
   "outputs": [
    {
     "name": "stdout",
     "output_type": "stream",
     "text": [
      "0\n"
     ]
    },
    {
     "data": {
      "text/html": [
       "<div>\n",
       "<style scoped>\n",
       "    .dataframe tbody tr th:only-of-type {\n",
       "        vertical-align: middle;\n",
       "    }\n",
       "\n",
       "    .dataframe tbody tr th {\n",
       "        vertical-align: top;\n",
       "    }\n",
       "\n",
       "    .dataframe thead th {\n",
       "        text-align: right;\n",
       "    }\n",
       "</style>\n",
       "<table border=\"1\" class=\"dataframe\">\n",
       "  <thead>\n",
       "    <tr style=\"text-align: right;\">\n",
       "      <th></th>\n",
       "      <th>tweet_id</th>\n",
       "      <th>retweet_count</th>\n",
       "      <th>favorite_count</th>\n",
       "    </tr>\n",
       "  </thead>\n",
       "  <tbody>\n",
       "  </tbody>\n",
       "</table>\n",
       "</div>"
      ],
      "text/plain": [
       "Empty DataFrame\n",
       "Columns: [tweet_id, retweet_count, favorite_count]\n",
       "Index: []"
      ]
     },
     "execution_count": 20,
     "metadata": {},
     "output_type": "execute_result"
    }
   ],
   "source": [
    "#check for duplicates\n",
    "\n",
    "print(sum(tw_df.duplicated()))\n",
    "tw_df[tw_df.duplicated()]"
   ]
  },
  {
   "cell_type": "code",
   "execution_count": 21,
   "metadata": {},
   "outputs": [
    {
     "data": {
      "text/html": [
       "<div>\n",
       "<style scoped>\n",
       "    .dataframe tbody tr th:only-of-type {\n",
       "        vertical-align: middle;\n",
       "    }\n",
       "\n",
       "    .dataframe tbody tr th {\n",
       "        vertical-align: top;\n",
       "    }\n",
       "\n",
       "    .dataframe thead th {\n",
       "        text-align: right;\n",
       "    }\n",
       "</style>\n",
       "<table border=\"1\" class=\"dataframe\">\n",
       "  <thead>\n",
       "    <tr style=\"text-align: right;\">\n",
       "      <th></th>\n",
       "      <th>tweet_id</th>\n",
       "      <th>retweet_count</th>\n",
       "      <th>favorite_count</th>\n",
       "    </tr>\n",
       "  </thead>\n",
       "  <tbody>\n",
       "    <tr>\n",
       "      <th>count</th>\n",
       "      <td>2.337000e+03</td>\n",
       "      <td>2337.000000</td>\n",
       "      <td>2337.000000</td>\n",
       "    </tr>\n",
       "    <tr>\n",
       "      <th>mean</th>\n",
       "      <td>7.420692e+17</td>\n",
       "      <td>2876.115533</td>\n",
       "      <td>7839.706461</td>\n",
       "    </tr>\n",
       "    <tr>\n",
       "      <th>std</th>\n",
       "      <td>6.824243e+16</td>\n",
       "      <td>4858.623890</td>\n",
       "      <td>12150.271348</td>\n",
       "    </tr>\n",
       "    <tr>\n",
       "      <th>min</th>\n",
       "      <td>6.660209e+17</td>\n",
       "      <td>1.000000</td>\n",
       "      <td>0.000000</td>\n",
       "    </tr>\n",
       "    <tr>\n",
       "      <th>25%</th>\n",
       "      <td>6.783345e+17</td>\n",
       "      <td>580.000000</td>\n",
       "      <td>1361.000000</td>\n",
       "    </tr>\n",
       "    <tr>\n",
       "      <th>50%</th>\n",
       "      <td>7.185406e+17</td>\n",
       "      <td>1344.000000</td>\n",
       "      <td>3420.000000</td>\n",
       "    </tr>\n",
       "    <tr>\n",
       "      <th>75%</th>\n",
       "      <td>7.986825e+17</td>\n",
       "      <td>3355.000000</td>\n",
       "      <td>9604.000000</td>\n",
       "    </tr>\n",
       "    <tr>\n",
       "      <th>max</th>\n",
       "      <td>8.924206e+17</td>\n",
       "      <td>82420.000000</td>\n",
       "      <td>162052.000000</td>\n",
       "    </tr>\n",
       "  </tbody>\n",
       "</table>\n",
       "</div>"
      ],
      "text/plain": [
       "           tweet_id  retweet_count  favorite_count\n",
       "count  2.337000e+03    2337.000000     2337.000000\n",
       "mean   7.420692e+17    2876.115533     7839.706461\n",
       "std    6.824243e+16    4858.623890    12150.271348\n",
       "min    6.660209e+17       1.000000        0.000000\n",
       "25%    6.783345e+17     580.000000     1361.000000\n",
       "50%    7.185406e+17    1344.000000     3420.000000\n",
       "75%    7.986825e+17    3355.000000     9604.000000\n",
       "max    8.924206e+17   82420.000000   162052.000000"
      ]
     },
     "execution_count": 21,
     "metadata": {},
     "output_type": "execute_result"
    }
   ],
   "source": [
    "#summary statistics\n",
    "\n",
    "tw_df.describe()"
   ]
  },
  {
   "cell_type": "markdown",
   "metadata": {},
   "source": [
    "### Issues With Data"
   ]
  },
  {
   "cell_type": "markdown",
   "metadata": {},
   "source": [
    "#### Quality"
   ]
  },
  {
   "cell_type": "markdown",
   "metadata": {},
   "source": [
    "* Remove reply tweets from `Twitter Archive`\n",
    "* Remove retweets from `Twitter Archive`\n",
    "* After reply tweet and retweets have been removed, remove these columns from `Twitter Archive`\n",
    "* Change tweet_id to string format in `all three dataframes`\n",
    "* Change timestamp colums in `Twitter Archive`\n",
    "* Change rating columns to float in `Twitter Archive`\n",
    "* Remove non-dog rows from `Image Predictions` based on p1 column\n",
    "* Change non-dog names to None in `Twitter Archive`\n",
    "* Remove _ and change values from p1 column in `Image Predictions` to proper case\n",
    "* Change prediction column names (p1, p1_conf, p2, etc) in `Image Predictions` to more descriptive labels"
   ]
  },
  {
   "cell_type": "markdown",
   "metadata": {},
   "source": [
    "#### Tidiness"
   ]
  },
  {
   "cell_type": "markdown",
   "metadata": {},
   "source": [
    "* Combine dog types into one column instead of four columns in `Twitter Archive`\n",
    "* Remove original dog type columns after combining into one column in `Twitter Archive`\n",
    "* Combine the three separate dataframes into one dataframe"
   ]
  },
  {
   "cell_type": "markdown",
   "metadata": {},
   "source": [
    "## Cleaning"
   ]
  },
  {
   "cell_type": "code",
   "execution_count": 22,
   "metadata": {},
   "outputs": [],
   "source": [
    "#make copies of original dataframes\n",
    "\n",
    "twt_arch_clean = twt_arch.copy()\n",
    "img_pred_clean = img_pred.copy()\n",
    "tw_df_clean = tw_df.copy()"
   ]
  },
  {
   "cell_type": "markdown",
   "metadata": {},
   "source": [
    "### Quality"
   ]
  },
  {
   "cell_type": "markdown",
   "metadata": {},
   "source": [
    "#### Define\n",
    "Remove reply tweets from `Twitter Archive`"
   ]
  },
  {
   "cell_type": "markdown",
   "metadata": {},
   "source": [
    "#### Code"
   ]
  },
  {
   "cell_type": "code",
   "execution_count": 23,
   "metadata": {},
   "outputs": [],
   "source": [
    "twt_arch_clean.drop(twt_arch_clean.loc[twt_arch_clean['in_reply_to_status_id'].notnull()].index, inplace=True)"
   ]
  },
  {
   "cell_type": "markdown",
   "metadata": {},
   "source": [
    "#### Test"
   ]
  },
  {
   "cell_type": "code",
   "execution_count": 24,
   "metadata": {},
   "outputs": [
    {
     "name": "stdout",
     "output_type": "stream",
     "text": [
      "<class 'pandas.core.frame.DataFrame'>\n",
      "Int64Index: 2278 entries, 0 to 2355\n",
      "Data columns (total 17 columns):\n",
      "tweet_id                      2278 non-null int64\n",
      "in_reply_to_status_id         0 non-null float64\n",
      "in_reply_to_user_id           0 non-null float64\n",
      "timestamp                     2278 non-null object\n",
      "source                        2278 non-null object\n",
      "text                          2278 non-null object\n",
      "retweeted_status_id           181 non-null float64\n",
      "retweeted_status_user_id      181 non-null float64\n",
      "retweeted_status_timestamp    181 non-null object\n",
      "expanded_urls                 2274 non-null object\n",
      "rating_numerator              2278 non-null int64\n",
      "rating_denominator            2278 non-null int64\n",
      "name                          2278 non-null object\n",
      "doggo                         2278 non-null object\n",
      "floofer                       2278 non-null object\n",
      "pupper                        2278 non-null object\n",
      "puppo                         2278 non-null object\n",
      "dtypes: float64(4), int64(3), object(10)\n",
      "memory usage: 320.3+ KB\n"
     ]
    }
   ],
   "source": [
    "twt_arch_clean.info()"
   ]
  },
  {
   "cell_type": "markdown",
   "metadata": {},
   "source": [
    "#### Define\n",
    "Remove retweets from `Twitter Archive`"
   ]
  },
  {
   "cell_type": "markdown",
   "metadata": {},
   "source": [
    "#### Code"
   ]
  },
  {
   "cell_type": "code",
   "execution_count": 25,
   "metadata": {},
   "outputs": [],
   "source": [
    "twt_arch_clean.drop(twt_arch_clean.loc[twt_arch_clean['retweeted_status_id'].notnull()].index, inplace=True)"
   ]
  },
  {
   "cell_type": "markdown",
   "metadata": {},
   "source": [
    "#### Test"
   ]
  },
  {
   "cell_type": "code",
   "execution_count": 26,
   "metadata": {},
   "outputs": [
    {
     "name": "stdout",
     "output_type": "stream",
     "text": [
      "<class 'pandas.core.frame.DataFrame'>\n",
      "Int64Index: 2097 entries, 0 to 2355\n",
      "Data columns (total 17 columns):\n",
      "tweet_id                      2097 non-null int64\n",
      "in_reply_to_status_id         0 non-null float64\n",
      "in_reply_to_user_id           0 non-null float64\n",
      "timestamp                     2097 non-null object\n",
      "source                        2097 non-null object\n",
      "text                          2097 non-null object\n",
      "retweeted_status_id           0 non-null float64\n",
      "retweeted_status_user_id      0 non-null float64\n",
      "retweeted_status_timestamp    0 non-null object\n",
      "expanded_urls                 2094 non-null object\n",
      "rating_numerator              2097 non-null int64\n",
      "rating_denominator            2097 non-null int64\n",
      "name                          2097 non-null object\n",
      "doggo                         2097 non-null object\n",
      "floofer                       2097 non-null object\n",
      "pupper                        2097 non-null object\n",
      "puppo                         2097 non-null object\n",
      "dtypes: float64(4), int64(3), object(10)\n",
      "memory usage: 294.9+ KB\n"
     ]
    }
   ],
   "source": [
    "twt_arch_clean.info()"
   ]
  },
  {
   "cell_type": "markdown",
   "metadata": {},
   "source": [
    "#### Define\n",
    "After retweets have been removed, remove associated retweet columns from `Twitter Archive`"
   ]
  },
  {
   "cell_type": "markdown",
   "metadata": {},
   "source": [
    "#### Code"
   ]
  },
  {
   "cell_type": "code",
   "execution_count": 27,
   "metadata": {},
   "outputs": [],
   "source": [
    "twt_arch_clean.drop(['in_reply_to_status_id', 'in_reply_to_user_id', 'retweeted_status_id', 'retweeted_status_user_id', 'retweeted_status_timestamp'], axis=1, inplace=True)\n"
   ]
  },
  {
   "cell_type": "markdown",
   "metadata": {},
   "source": [
    "#### Test"
   ]
  },
  {
   "cell_type": "code",
   "execution_count": 28,
   "metadata": {},
   "outputs": [
    {
     "data": {
      "text/plain": [
       "['tweet_id',\n",
       " 'timestamp',\n",
       " 'source',\n",
       " 'text',\n",
       " 'expanded_urls',\n",
       " 'rating_numerator',\n",
       " 'rating_denominator',\n",
       " 'name',\n",
       " 'doggo',\n",
       " 'floofer',\n",
       " 'pupper',\n",
       " 'puppo']"
      ]
     },
     "execution_count": 28,
     "metadata": {},
     "output_type": "execute_result"
    }
   ],
   "source": [
    "list(twt_arch_clean.columns)"
   ]
  },
  {
   "cell_type": "markdown",
   "metadata": {},
   "source": [
    "#### Define\n",
    "Change tweet_id to string in all three dataframes"
   ]
  },
  {
   "cell_type": "markdown",
   "metadata": {},
   "source": [
    "#### Code"
   ]
  },
  {
   "cell_type": "code",
   "execution_count": 29,
   "metadata": {},
   "outputs": [],
   "source": [
    "twt_arch_clean.tweet_id = twt_arch_clean.tweet_id.astype('str')\n",
    "img_pred_clean.tweet_id = img_pred_clean.tweet_id.astype('str')\n",
    "tw_df_clean.tweet_id = tw_df_clean.tweet_id.astype('str')"
   ]
  },
  {
   "cell_type": "markdown",
   "metadata": {},
   "source": [
    "#### Test"
   ]
  },
  {
   "cell_type": "code",
   "execution_count": 30,
   "metadata": {},
   "outputs": [
    {
     "name": "stdout",
     "output_type": "stream",
     "text": [
      "<class 'str'> <class 'str'> <class 'str'>\n"
     ]
    }
   ],
   "source": [
    "print(type(twt_arch_clean.tweet_id[0]), \n",
    "      type(img_pred_clean.tweet_id[0]), \n",
    "      type(tw_df_clean.tweet_id[0]))"
   ]
  },
  {
   "cell_type": "markdown",
   "metadata": {},
   "source": [
    "#### Define\n",
    "Change timestamp colum in `Twitter Archive`"
   ]
  },
  {
   "cell_type": "markdown",
   "metadata": {},
   "source": [
    "#### Code"
   ]
  },
  {
   "cell_type": "code",
   "execution_count": 31,
   "metadata": {},
   "outputs": [],
   "source": [
    "twt_arch_clean.timestamp = pd.to_datetime(twt_arch_clean.timestamp)"
   ]
  },
  {
   "cell_type": "markdown",
   "metadata": {},
   "source": [
    "#### Test"
   ]
  },
  {
   "cell_type": "code",
   "execution_count": 32,
   "metadata": {},
   "outputs": [
    {
     "data": {
      "text/plain": [
       "datetime64[ns, UTC]"
      ]
     },
     "execution_count": 32,
     "metadata": {},
     "output_type": "execute_result"
    }
   ],
   "source": [
    "twt_arch_clean.timestamp.dtypes"
   ]
  },
  {
   "cell_type": "markdown",
   "metadata": {},
   "source": [
    "#### Define\n",
    "Change rating columns to float in `Twitter Archive`"
   ]
  },
  {
   "cell_type": "markdown",
   "metadata": {},
   "source": [
    "#### Code"
   ]
  },
  {
   "cell_type": "code",
   "execution_count": 33,
   "metadata": {},
   "outputs": [],
   "source": [
    "convert_ratings = {'rating_numerator': float,\n",
    "                  'rating_denominator': float}\n",
    "\n",
    "twt_arch_clean = twt_arch_clean.astype(convert_ratings)"
   ]
  },
  {
   "cell_type": "markdown",
   "metadata": {},
   "source": [
    "#### Test"
   ]
  },
  {
   "cell_type": "code",
   "execution_count": 34,
   "metadata": {},
   "outputs": [
    {
     "data": {
      "text/plain": [
       "tweet_id                           object\n",
       "timestamp             datetime64[ns, UTC]\n",
       "source                             object\n",
       "text                               object\n",
       "expanded_urls                      object\n",
       "rating_numerator                  float64\n",
       "rating_denominator                float64\n",
       "name                               object\n",
       "doggo                              object\n",
       "floofer                            object\n",
       "pupper                             object\n",
       "puppo                              object\n",
       "dtype: object"
      ]
     },
     "execution_count": 34,
     "metadata": {},
     "output_type": "execute_result"
    }
   ],
   "source": [
    "twt_arch_clean.dtypes"
   ]
  },
  {
   "cell_type": "markdown",
   "metadata": {},
   "source": [
    "#### Define\n",
    "Remove non-dog rows from `Image Predictions` based on p1 values"
   ]
  },
  {
   "cell_type": "markdown",
   "metadata": {},
   "source": [
    "#### Code"
   ]
  },
  {
   "cell_type": "code",
   "execution_count": 35,
   "metadata": {},
   "outputs": [],
   "source": [
    "img_pred_clean.drop(img_pred_clean[img_pred_clean.p1_dog == False].index, inplace=True)"
   ]
  },
  {
   "cell_type": "markdown",
   "metadata": {},
   "source": [
    "#### Test"
   ]
  },
  {
   "cell_type": "code",
   "execution_count": 36,
   "metadata": {},
   "outputs": [
    {
     "data": {
      "text/plain": [
       "0"
      ]
     },
     "execution_count": 36,
     "metadata": {},
     "output_type": "execute_result"
    }
   ],
   "source": [
    "len(img_pred_clean.query('p1_dog == False'))"
   ]
  },
  {
   "cell_type": "markdown",
   "metadata": {},
   "source": [
    "#### Define\n",
    "Change non-dog names to Unknown in `Twitter Archive`"
   ]
  },
  {
   "cell_type": "markdown",
   "metadata": {},
   "source": [
    "#### Code"
   ]
  },
  {
   "cell_type": "code",
   "execution_count": 37,
   "metadata": {
    "scrolled": false
   },
   "outputs": [
    {
     "name": "stderr",
     "output_type": "stream",
     "text": [
      "/anaconda3/lib/python3.6/site-packages/ipykernel_launcher.py:7: SettingWithCopyWarning: \n",
      "A value is trying to be set on a copy of a slice from a DataFrame\n",
      "\n",
      "See the caveats in the documentation: http://pandas.pydata.org/pandas-docs/stable/indexing.html#indexing-view-versus-copy\n",
      "  import sys\n"
     ]
    }
   ],
   "source": [
    "wrong_names = ['a', 'all', 'an', 'by', 'his', 'incredibly', 'infuriating', 'life', 'light', 'mad', 'my', 'not', 'old', 'one',\n",
    "               'quite', 'such', 'the', 'this', 'unacceptable', 'very']\n",
    "\n",
    "\n",
    "for name in twt_arch_clean.name:\n",
    "    if name in wrong_names:\n",
    "        twt_arch_clean.name[twt_arch_clean.name == name] = 'None'"
   ]
  },
  {
   "cell_type": "markdown",
   "metadata": {},
   "source": [
    "#### Test"
   ]
  },
  {
   "cell_type": "code",
   "execution_count": 38,
   "metadata": {},
   "outputs": [],
   "source": [
    "for name in twt_arch_clean.name:\n",
    "    if name in wrong_names:\n",
    "        print(name)"
   ]
  },
  {
   "cell_type": "code",
   "execution_count": 39,
   "metadata": {},
   "outputs": [
    {
     "data": {
      "text/plain": [
       "None         698\n",
       "Lucy          11\n",
       "Charlie       11\n",
       "Oliver        10\n",
       "Cooper        10\n",
       "Tucker         9\n",
       "Penny          9\n",
       "Sadie          8\n",
       "Winston        8\n",
       "Lola           8\n",
       "Daisy          7\n",
       "Toby           7\n",
       "Bo             6\n",
       "Bella          6\n",
       "Jax            6\n",
       "Bailey         6\n",
       "Koda           6\n",
       "Oscar          6\n",
       "Stanley        6\n",
       "Chester        5\n",
       "Leo            5\n",
       "Scout          5\n",
       "Bentley        5\n",
       "Louis          5\n",
       "Dave           5\n",
       "Buddy          5\n",
       "Milo           5\n",
       "Rusty          5\n",
       "Larry          4\n",
       "Jeffrey        4\n",
       "            ... \n",
       "Jimbo          1\n",
       "Gordon         1\n",
       "Cora           1\n",
       "Jerome         1\n",
       "Amber          1\n",
       "Ole            1\n",
       "Georgie        1\n",
       "Tito           1\n",
       "Josep          1\n",
       "Dudley         1\n",
       "Mary           1\n",
       "Wiggles        1\n",
       "Ralphy         1\n",
       "Bobbay         1\n",
       "Livvie         1\n",
       "Torque         1\n",
       "Blipson        1\n",
       "Aubie          1\n",
       "Snicku         1\n",
       "DayZ           1\n",
       "Barry          1\n",
       "Hurley         1\n",
       "Happy          1\n",
       "Covach         1\n",
       "Sprinkles      1\n",
       "Quinn          1\n",
       "Shooter        1\n",
       "Huxley         1\n",
       "Lenox          1\n",
       "Sweet          1\n",
       "Name: name, Length: 935, dtype: int64"
      ]
     },
     "execution_count": 39,
     "metadata": {},
     "output_type": "execute_result"
    }
   ],
   "source": [
    "twt_arch_clean.name.value_counts()"
   ]
  },
  {
   "cell_type": "markdown",
   "metadata": {},
   "source": [
    "#### Define\n",
    "Remove _ and change values from p1 column in `Image Predictions` to proper case"
   ]
  },
  {
   "cell_type": "markdown",
   "metadata": {},
   "source": [
    "#### Code"
   ]
  },
  {
   "cell_type": "code",
   "execution_count": 40,
   "metadata": {},
   "outputs": [],
   "source": [
    "img_pred_clean.p1 = img_pred_clean.p1.str.replace(\"_\", \" \")\n",
    "img_pred_clean.p1 = img_pred_clean.p1.str.title()"
   ]
  },
  {
   "cell_type": "markdown",
   "metadata": {},
   "source": [
    "#### Test"
   ]
  },
  {
   "cell_type": "code",
   "execution_count": 41,
   "metadata": {},
   "outputs": [
    {
     "data": {
      "text/plain": [
       "0"
      ]
     },
     "execution_count": 41,
     "metadata": {},
     "output_type": "execute_result"
    }
   ],
   "source": [
    "len(img_pred_clean[img_pred_clean['p1'].str.contains(\"_\")])"
   ]
  },
  {
   "cell_type": "code",
   "execution_count": 42,
   "metadata": {},
   "outputs": [
    {
     "data": {
      "text/plain": [
       "Golden Retriever               150\n",
       "Labrador Retriever             100\n",
       "Pembroke                        89\n",
       "Chihuahua                       83\n",
       "Pug                             57\n",
       "Chow                            44\n",
       "Samoyed                         43\n",
       "Toy Poodle                      39\n",
       "Pomeranian                      38\n",
       "Cocker Spaniel                  30\n",
       "Malamute                        30\n",
       "French Bulldog                  26\n",
       "Miniature Pinscher              23\n",
       "Chesapeake Bay Retriever        23\n",
       "German Shepherd                 20\n",
       "Siberian Husky                  20\n",
       "Staffordshire Bullterrier       20\n",
       "Cardigan                        19\n",
       "Eskimo Dog                      18\n",
       "Beagle                          18\n",
       "Maltese Dog                     18\n",
       "Shetland Sheepdog               18\n",
       "Shih-Tzu                        17\n",
       "Rottweiler                      17\n",
       "Lakeland Terrier                17\n",
       "Italian Greyhound               16\n",
       "Kuvasz                          16\n",
       "West Highland White Terrier     14\n",
       "Great Pyrenees                  14\n",
       "Dalmatian                       13\n",
       "                              ... \n",
       "Saluki                           4\n",
       "Rhodesian Ridgeback              4\n",
       "Norwich Terrier                  4\n",
       "Tibetan Terrier                  4\n",
       "Gordon Setter                    4\n",
       "Briard                           3\n",
       "Giant Schnauzer                  3\n",
       "Leonberg                         3\n",
       "Ibizan Hound                     3\n",
       "Cairn                            3\n",
       "Scottish Deerhound               3\n",
       "Greater Swiss Mountain Dog       3\n",
       "Irish Water Spaniel              3\n",
       "Welsh Springer Spaniel           3\n",
       "Curly-Coated Retriever           3\n",
       "Komondor                         3\n",
       "Brabancon Griffon                3\n",
       "Black-And-Tan Coonhound          2\n",
       "Appenzeller                      2\n",
       "Australian Terrier               2\n",
       "Wire-Haired Fox Terrier          2\n",
       "Toy Terrier                      2\n",
       "Sussex Spaniel                   2\n",
       "Entlebucher                      1\n",
       "Silky Terrier                    1\n",
       "Standard Schnauzer               1\n",
       "Groenendael                      1\n",
       "Clumber                          1\n",
       "Japanese Spaniel                 1\n",
       "Scotch Terrier                   1\n",
       "Name: p1, Length: 111, dtype: int64"
      ]
     },
     "execution_count": 42,
     "metadata": {},
     "output_type": "execute_result"
    }
   ],
   "source": [
    "img_pred_clean.p1.value_counts()"
   ]
  },
  {
   "cell_type": "markdown",
   "metadata": {},
   "source": [
    "#### Define\n",
    "Change prediction column names (p1, p1_conf, p2, etc) in `Image Predictions` to more descriptive labels"
   ]
  },
  {
   "cell_type": "markdown",
   "metadata": {},
   "source": [
    "#### Code"
   ]
  },
  {
   "cell_type": "code",
   "execution_count": 43,
   "metadata": {},
   "outputs": [],
   "source": [
    "img_pred_clean.rename(columns = {'p1': 'prediction_1', 'p1_conf': 'confidence_interval_1', 'p1_dog': 'p1=dog?', \n",
    "                                 'p2': 'prediction_2', 'p2_conf': 'confidence_interval_2', 'p2_dog': 'p2=dog?', \n",
    "                                 'p3': 'prediction_3', 'p3_conf': 'confidence_interval_3', 'p3_dog': 'p3=dog?'}, inplace=True)\n",
    "\n"
   ]
  },
  {
   "cell_type": "markdown",
   "metadata": {},
   "source": [
    "#### Test"
   ]
  },
  {
   "cell_type": "code",
   "execution_count": 44,
   "metadata": {
    "scrolled": true
   },
   "outputs": [
    {
     "data": {
      "text/plain": [
       "['tweet_id',\n",
       " 'jpg_url',\n",
       " 'img_num',\n",
       " 'prediction_1',\n",
       " 'confidence_interval_1',\n",
       " 'p1=dog?',\n",
       " 'prediction_2',\n",
       " 'confidence_interval_2',\n",
       " 'p2=dog?',\n",
       " 'prediction_3',\n",
       " 'confidence_interval_3',\n",
       " 'p3=dog?']"
      ]
     },
     "execution_count": 44,
     "metadata": {},
     "output_type": "execute_result"
    }
   ],
   "source": [
    "list(img_pred_clean.columns)"
   ]
  },
  {
   "cell_type": "markdown",
   "metadata": {},
   "source": [
    "### Tidiness"
   ]
  },
  {
   "cell_type": "markdown",
   "metadata": {},
   "source": [
    "#### Define\n",
    "Combine dog types into one column instead of four columns in `Twitter Archive`"
   ]
  },
  {
   "cell_type": "markdown",
   "metadata": {},
   "source": [
    "#### Code"
   ]
  },
  {
   "cell_type": "code",
   "execution_count": 45,
   "metadata": {},
   "outputs": [],
   "source": [
    "twt_arch_clean['dog_type'] = twt_arch_clean.doggo + twt_arch_clean.floofer + twt_arch_clean.pupper + twt_arch_clean.puppo\n",
    "twt_arch_clean.loc[twt_arch_clean.dog_type == 'NoneNoneNoneNone', 'dog_type'] = 'Not Available'\n",
    "twt_arch_clean.loc[twt_arch_clean.dog_type == 'NoneNonepupperNone', 'dog_type'] = 'Pupper'\n",
    "twt_arch_clean.loc[twt_arch_clean.dog_type == 'doggoNoneNoneNone', 'dog_type'] = 'Doggo'\n",
    "twt_arch_clean.loc[twt_arch_clean.dog_type == 'NoneNoneNonepuppo', 'dog_type'] = 'Puppo'\n",
    "twt_arch_clean.loc[twt_arch_clean.dog_type == 'doggoNonepupperNone', 'dog_type'] = 'Doggo, Pupper'\n",
    "twt_arch_clean.loc[twt_arch_clean.dog_type == 'NoneflooferNoneNone', 'dog_type'] = 'Floofer'\n",
    "twt_arch_clean.loc[twt_arch_clean.dog_type == 'doggoNoneNonepuppo', 'dog_type'] = 'Doggo, Puppo'\n",
    "twt_arch_clean.loc[twt_arch_clean.dog_type == 'doggoflooferNoneNone', 'dog_type'] = 'Doggo, Floofer'\n"
   ]
  },
  {
   "cell_type": "markdown",
   "metadata": {},
   "source": [
    "#### Test"
   ]
  },
  {
   "cell_type": "code",
   "execution_count": 46,
   "metadata": {},
   "outputs": [
    {
     "data": {
      "text/plain": [
       "Not Available     1761\n",
       "Pupper             221\n",
       "Doggo               72\n",
       "Puppo               23\n",
       "Doggo, Pupper        9\n",
       "Floofer              9\n",
       "Doggo, Puppo         1\n",
       "Doggo, Floofer       1\n",
       "Name: dog_type, dtype: int64"
      ]
     },
     "execution_count": 46,
     "metadata": {},
     "output_type": "execute_result"
    }
   ],
   "source": [
    "twt_arch_clean.dog_type.value_counts()"
   ]
  },
  {
   "cell_type": "markdown",
   "metadata": {},
   "source": [
    "#### Define\n",
    "Remove original dog type columns after combining into one column in `Twitter Archive`"
   ]
  },
  {
   "cell_type": "markdown",
   "metadata": {},
   "source": [
    "#### Code"
   ]
  },
  {
   "cell_type": "code",
   "execution_count": 47,
   "metadata": {},
   "outputs": [],
   "source": [
    "twt_arch_clean.drop(['pupper', 'doggo', 'puppo', 'floofer'], axis=1, inplace=True)"
   ]
  },
  {
   "cell_type": "markdown",
   "metadata": {},
   "source": [
    "#### Test"
   ]
  },
  {
   "cell_type": "code",
   "execution_count": 48,
   "metadata": {},
   "outputs": [
    {
     "data": {
      "text/plain": [
       "['tweet_id',\n",
       " 'timestamp',\n",
       " 'source',\n",
       " 'text',\n",
       " 'expanded_urls',\n",
       " 'rating_numerator',\n",
       " 'rating_denominator',\n",
       " 'name',\n",
       " 'dog_type']"
      ]
     },
     "execution_count": 48,
     "metadata": {},
     "output_type": "execute_result"
    }
   ],
   "source": [
    "list(twt_arch_clean.columns)"
   ]
  },
  {
   "cell_type": "markdown",
   "metadata": {},
   "source": [
    "#### Define\n",
    "Combine the three separate dataframes into one dataframe"
   ]
  },
  {
   "cell_type": "markdown",
   "metadata": {},
   "source": [
    "#### Code"
   ]
  },
  {
   "cell_type": "code",
   "execution_count": 49,
   "metadata": {},
   "outputs": [],
   "source": [
    "#merge first two dataframes\n",
    "\n",
    "df_merge_1 = pd.merge(twt_arch_clean,\n",
    "                        img_pred_clean,\n",
    "                     how = 'left', on = ['tweet_id'])"
   ]
  },
  {
   "cell_type": "code",
   "execution_count": 50,
   "metadata": {},
   "outputs": [],
   "source": [
    "#convert tweet_id to int\n",
    "\n",
    "tw_df_clean.tweet_id = tw_df_clean.tweet_id.astype(int)\n",
    "df_merge_1.tweet_id = df_merge_1.tweet_id.astype(int)"
   ]
  },
  {
   "cell_type": "code",
   "execution_count": 51,
   "metadata": {},
   "outputs": [],
   "source": [
    "#merge remaining dataframes as master\n",
    "\n",
    "df_master = pd.merge(df_merge_1,\n",
    "                    tw_df,\n",
    "                    how = 'left', on = ['tweet_id'])"
   ]
  },
  {
   "cell_type": "markdown",
   "metadata": {},
   "source": [
    "#### Test"
   ]
  },
  {
   "cell_type": "code",
   "execution_count": 52,
   "metadata": {},
   "outputs": [
    {
     "name": "stdout",
     "output_type": "stream",
     "text": [
      "<class 'pandas.core.frame.DataFrame'>\n",
      "Int64Index: 2097 entries, 0 to 2096\n",
      "Data columns (total 22 columns):\n",
      "tweet_id                 2097 non-null int64\n",
      "timestamp                2097 non-null datetime64[ns, UTC]\n",
      "source                   2097 non-null object\n",
      "text                     2097 non-null object\n",
      "expanded_urls            2094 non-null object\n",
      "rating_numerator         2097 non-null float64\n",
      "rating_denominator       2097 non-null float64\n",
      "name                     2097 non-null object\n",
      "dog_type                 2097 non-null object\n",
      "jpg_url                  1463 non-null object\n",
      "img_num                  1463 non-null float64\n",
      "prediction_1             1463 non-null object\n",
      "confidence_interval_1    1463 non-null float64\n",
      "p1=dog?                  1463 non-null object\n",
      "prediction_2             1463 non-null object\n",
      "confidence_interval_2    1463 non-null float64\n",
      "p2=dog?                  1463 non-null object\n",
      "prediction_3             1463 non-null object\n",
      "confidence_interval_3    1463 non-null float64\n",
      "p3=dog?                  1463 non-null object\n",
      "retweet_count            2093 non-null float64\n",
      "favorite_count           2093 non-null float64\n",
      "dtypes: datetime64[ns, UTC](1), float64(8), int64(1), object(12)\n",
      "memory usage: 376.8+ KB\n"
     ]
    }
   ],
   "source": [
    "df_master.info()"
   ]
  },
  {
   "cell_type": "code",
   "execution_count": 53,
   "metadata": {},
   "outputs": [
    {
     "data": {
      "text/html": [
       "<div>\n",
       "<style scoped>\n",
       "    .dataframe tbody tr th:only-of-type {\n",
       "        vertical-align: middle;\n",
       "    }\n",
       "\n",
       "    .dataframe tbody tr th {\n",
       "        vertical-align: top;\n",
       "    }\n",
       "\n",
       "    .dataframe thead th {\n",
       "        text-align: right;\n",
       "    }\n",
       "</style>\n",
       "<table border=\"1\" class=\"dataframe\">\n",
       "  <thead>\n",
       "    <tr style=\"text-align: right;\">\n",
       "      <th></th>\n",
       "      <th>tweet_id</th>\n",
       "      <th>timestamp</th>\n",
       "      <th>source</th>\n",
       "      <th>text</th>\n",
       "      <th>expanded_urls</th>\n",
       "      <th>rating_numerator</th>\n",
       "      <th>rating_denominator</th>\n",
       "      <th>name</th>\n",
       "      <th>dog_type</th>\n",
       "      <th>jpg_url</th>\n",
       "      <th>...</th>\n",
       "      <th>confidence_interval_1</th>\n",
       "      <th>p1=dog?</th>\n",
       "      <th>prediction_2</th>\n",
       "      <th>confidence_interval_2</th>\n",
       "      <th>p2=dog?</th>\n",
       "      <th>prediction_3</th>\n",
       "      <th>confidence_interval_3</th>\n",
       "      <th>p3=dog?</th>\n",
       "      <th>retweet_count</th>\n",
       "      <th>favorite_count</th>\n",
       "    </tr>\n",
       "  </thead>\n",
       "  <tbody>\n",
       "    <tr>\n",
       "      <th>712</th>\n",
       "      <td>756998049151549440</td>\n",
       "      <td>2016-07-23 23:42:53+00:00</td>\n",
       "      <td>&lt;a href=\"http://twitter.com/download/iphone\" r...</td>\n",
       "      <td>This is Oliver. He's an English Creamschnitzel...</td>\n",
       "      <td>https://twitter.com/dog_rates/status/756998049...</td>\n",
       "      <td>11.0</td>\n",
       "      <td>10.0</td>\n",
       "      <td>Oliver</td>\n",
       "      <td>Not Available</td>\n",
       "      <td>https://pbs.twimg.com/media/CoFlsGAWgAA2YeV.jpg</td>\n",
       "      <td>...</td>\n",
       "      <td>0.678555</td>\n",
       "      <td>True</td>\n",
       "      <td>Labrador_retriever</td>\n",
       "      <td>0.072632</td>\n",
       "      <td>True</td>\n",
       "      <td>Border_terrier</td>\n",
       "      <td>0.049033</td>\n",
       "      <td>True</td>\n",
       "      <td>2107.0</td>\n",
       "      <td>6550.0</td>\n",
       "    </tr>\n",
       "    <tr>\n",
       "      <th>1057</th>\n",
       "      <td>709179584944730112</td>\n",
       "      <td>2016-03-14 00:49:23+00:00</td>\n",
       "      <td>&lt;a href=\"http://vine.co\" rel=\"nofollow\"&gt;Vine -...</td>\n",
       "      <td>This is Sammy. He's in a tree. Very excited ab...</td>\n",
       "      <td>https://vine.co/v/iwAjdlEjwMl</td>\n",
       "      <td>13.0</td>\n",
       "      <td>10.0</td>\n",
       "      <td>Sammy</td>\n",
       "      <td>Not Available</td>\n",
       "      <td>NaN</td>\n",
       "      <td>...</td>\n",
       "      <td>NaN</td>\n",
       "      <td>NaN</td>\n",
       "      <td>NaN</td>\n",
       "      <td>NaN</td>\n",
       "      <td>NaN</td>\n",
       "      <td>NaN</td>\n",
       "      <td>NaN</td>\n",
       "      <td>NaN</td>\n",
       "      <td>696.0</td>\n",
       "      <td>2067.0</td>\n",
       "    </tr>\n",
       "    <tr>\n",
       "      <th>267</th>\n",
       "      <td>832273440279240704</td>\n",
       "      <td>2017-02-16 17:00:25+00:00</td>\n",
       "      <td>&lt;a href=\"http://twitter.com/download/iphone\" r...</td>\n",
       "      <td>Say hello to Smiley. He's a blind therapy dogg...</td>\n",
       "      <td>https://twitter.com/dog_rates/status/832273440...</td>\n",
       "      <td>14.0</td>\n",
       "      <td>10.0</td>\n",
       "      <td>Smiley</td>\n",
       "      <td>Doggo</td>\n",
       "      <td>https://pbs.twimg.com/ext_tw_video_thumb/83227...</td>\n",
       "      <td>...</td>\n",
       "      <td>0.134081</td>\n",
       "      <td>True</td>\n",
       "      <td>ice_bear</td>\n",
       "      <td>0.051928</td>\n",
       "      <td>False</td>\n",
       "      <td>pug</td>\n",
       "      <td>0.044311</td>\n",
       "      <td>True</td>\n",
       "      <td>2470.0</td>\n",
       "      <td>11759.0</td>\n",
       "    </tr>\n",
       "    <tr>\n",
       "      <th>1083</th>\n",
       "      <td>707610948723478529</td>\n",
       "      <td>2016-03-09 16:56:11+00:00</td>\n",
       "      <td>&lt;a href=\"http://twitter.com/download/iphone\" r...</td>\n",
       "      <td>This is Harper. She scraped her elbow attempti...</td>\n",
       "      <td>https://twitter.com/dog_rates/status/707610948...</td>\n",
       "      <td>12.0</td>\n",
       "      <td>10.0</td>\n",
       "      <td>Harper</td>\n",
       "      <td>Not Available</td>\n",
       "      <td>https://pbs.twimg.com/media/CdHwZd0VIAA4792.jpg</td>\n",
       "      <td>...</td>\n",
       "      <td>0.383223</td>\n",
       "      <td>True</td>\n",
       "      <td>cocker_spaniel</td>\n",
       "      <td>0.165930</td>\n",
       "      <td>True</td>\n",
       "      <td>Chesapeake_Bay_retriever</td>\n",
       "      <td>0.118199</td>\n",
       "      <td>True</td>\n",
       "      <td>6693.0</td>\n",
       "      <td>17510.0</td>\n",
       "    </tr>\n",
       "    <tr>\n",
       "      <th>970</th>\n",
       "      <td>718460005985447936</td>\n",
       "      <td>2016-04-08 15:26:28+00:00</td>\n",
       "      <td>&lt;a href=\"http://twitter.com/download/iphone\" r...</td>\n",
       "      <td>Meet Bowie. He's listening for underground squ...</td>\n",
       "      <td>https://twitter.com/dog_rates/status/718460005...</td>\n",
       "      <td>9.0</td>\n",
       "      <td>10.0</td>\n",
       "      <td>Bowie</td>\n",
       "      <td>Not Available</td>\n",
       "      <td>NaN</td>\n",
       "      <td>...</td>\n",
       "      <td>NaN</td>\n",
       "      <td>NaN</td>\n",
       "      <td>NaN</td>\n",
       "      <td>NaN</td>\n",
       "      <td>NaN</td>\n",
       "      <td>NaN</td>\n",
       "      <td>NaN</td>\n",
       "      <td>NaN</td>\n",
       "      <td>546.0</td>\n",
       "      <td>2776.0</td>\n",
       "    </tr>\n",
       "  </tbody>\n",
       "</table>\n",
       "<p>5 rows × 22 columns</p>\n",
       "</div>"
      ],
      "text/plain": [
       "                tweet_id                 timestamp  \\\n",
       "712   756998049151549440 2016-07-23 23:42:53+00:00   \n",
       "1057  709179584944730112 2016-03-14 00:49:23+00:00   \n",
       "267   832273440279240704 2017-02-16 17:00:25+00:00   \n",
       "1083  707610948723478529 2016-03-09 16:56:11+00:00   \n",
       "970   718460005985447936 2016-04-08 15:26:28+00:00   \n",
       "\n",
       "                                                 source  \\\n",
       "712   <a href=\"http://twitter.com/download/iphone\" r...   \n",
       "1057  <a href=\"http://vine.co\" rel=\"nofollow\">Vine -...   \n",
       "267   <a href=\"http://twitter.com/download/iphone\" r...   \n",
       "1083  <a href=\"http://twitter.com/download/iphone\" r...   \n",
       "970   <a href=\"http://twitter.com/download/iphone\" r...   \n",
       "\n",
       "                                                   text  \\\n",
       "712   This is Oliver. He's an English Creamschnitzel...   \n",
       "1057  This is Sammy. He's in a tree. Very excited ab...   \n",
       "267   Say hello to Smiley. He's a blind therapy dogg...   \n",
       "1083  This is Harper. She scraped her elbow attempti...   \n",
       "970   Meet Bowie. He's listening for underground squ...   \n",
       "\n",
       "                                          expanded_urls  rating_numerator  \\\n",
       "712   https://twitter.com/dog_rates/status/756998049...              11.0   \n",
       "1057                      https://vine.co/v/iwAjdlEjwMl              13.0   \n",
       "267   https://twitter.com/dog_rates/status/832273440...              14.0   \n",
       "1083  https://twitter.com/dog_rates/status/707610948...              12.0   \n",
       "970   https://twitter.com/dog_rates/status/718460005...               9.0   \n",
       "\n",
       "      rating_denominator    name       dog_type  \\\n",
       "712                 10.0  Oliver  Not Available   \n",
       "1057                10.0   Sammy  Not Available   \n",
       "267                 10.0  Smiley          Doggo   \n",
       "1083                10.0  Harper  Not Available   \n",
       "970                 10.0   Bowie  Not Available   \n",
       "\n",
       "                                                jpg_url  ...  \\\n",
       "712     https://pbs.twimg.com/media/CoFlsGAWgAA2YeV.jpg  ...   \n",
       "1057                                                NaN  ...   \n",
       "267   https://pbs.twimg.com/ext_tw_video_thumb/83227...  ...   \n",
       "1083    https://pbs.twimg.com/media/CdHwZd0VIAA4792.jpg  ...   \n",
       "970                                                 NaN  ...   \n",
       "\n",
       "      confidence_interval_1 p1=dog?        prediction_2 confidence_interval_2  \\\n",
       "712                0.678555    True  Labrador_retriever              0.072632   \n",
       "1057                    NaN     NaN                 NaN                   NaN   \n",
       "267                0.134081    True            ice_bear              0.051928   \n",
       "1083               0.383223    True      cocker_spaniel              0.165930   \n",
       "970                     NaN     NaN                 NaN                   NaN   \n",
       "\n",
       "     p2=dog?              prediction_3 confidence_interval_3 p3=dog?  \\\n",
       "712     True            Border_terrier              0.049033    True   \n",
       "1057     NaN                       NaN                   NaN     NaN   \n",
       "267    False                       pug              0.044311    True   \n",
       "1083    True  Chesapeake_Bay_retriever              0.118199    True   \n",
       "970      NaN                       NaN                   NaN     NaN   \n",
       "\n",
       "      retweet_count favorite_count  \n",
       "712          2107.0         6550.0  \n",
       "1057          696.0         2067.0  \n",
       "267          2470.0        11759.0  \n",
       "1083         6693.0        17510.0  \n",
       "970           546.0         2776.0  \n",
       "\n",
       "[5 rows x 22 columns]"
      ]
     },
     "execution_count": 53,
     "metadata": {},
     "output_type": "execute_result"
    }
   ],
   "source": [
    "df_master.sample(5)"
   ]
  },
  {
   "cell_type": "code",
   "execution_count": 54,
   "metadata": {},
   "outputs": [],
   "source": [
    "df_master.to_csv('twitter_archive_master.csv', index=False)"
   ]
  },
  {
   "cell_type": "markdown",
   "metadata": {},
   "source": [
    "## Analysis and Visualization"
   ]
  },
  {
   "cell_type": "markdown",
   "metadata": {},
   "source": [
    "#### Insight 1\n",
    "Is there a correlation between favorites and retweets?\n",
    ">Based on the scatterplot below, there does appear to be a strong correlation between the number of favorites and retweets. The more favorites a tweet receives, the more likely that tweet is to be retweeted."
   ]
  },
  {
   "cell_type": "code",
   "execution_count": 55,
   "metadata": {
    "scrolled": true
   },
   "outputs": [
    {
     "data": {
      "image/png": "[encoded data removed]",
      "text/plain": [
       "<Figure size 648x288 with 1 Axes>"
      ]
     },
     "metadata": {
      "needs_background": "light"
     },
     "output_type": "display_data"
    }
   ],
   "source": [
    "plt.figure(figsize=(9,4))\n",
    "plt.scatter(df_master.retweet_count, df_master.favorite_count, color='teal', alpha=.8)\n",
    "plt.title('Favorites and Retweets')\n",
    "plt.xlabel('Retweets')\n",
    "plt.ylabel('Favorites')\n",
    "\n",
    "fig = plt.gcf()\n",
    "fig.savefig('output1.png',bbox_inches='tight');"
   ]
  },
  {
   "cell_type": "markdown",
   "metadata": {},
   "source": [
    "#### Insight 2\n",
    "Based on image predictions, what is the most popular dog breed?\n",
    ">Golden Retriever"
   ]
  },
  {
   "cell_type": "code",
   "execution_count": 56,
   "metadata": {},
   "outputs": [
    {
     "data": {
      "text/plain": [
       "Golden Retriever               137\n",
       "Labrador Retriever              94\n",
       "Pembroke                        88\n",
       "Chihuahua                       78\n",
       "Pug                             54\n",
       "Chow                            41\n",
       "Samoyed                         40\n",
       "Pomeranian                      38\n",
       "Toy Poodle                      37\n",
       "Malamute                        29\n",
       "Cocker Spaniel                  27\n",
       "French Bulldog                  26\n",
       "Chesapeake Bay Retriever        23\n",
       "Miniature Pinscher              21\n",
       "German Shepherd                 20\n",
       "Siberian Husky                  20\n",
       "Staffordshire Bullterrier       19\n",
       "Maltese Dog                     18\n",
       "Shetland Sheepdog               18\n",
       "Eskimo Dog                      18\n",
       "Beagle                          17\n",
       "Cardigan                        17\n",
       "Shih-Tzu                        17\n",
       "Italian Greyhound               16\n",
       "Rottweiler                      16\n",
       "Lakeland Terrier                15\n",
       "Kuvasz                          15\n",
       "Great Pyrenees                  14\n",
       "West Highland White Terrier     14\n",
       "Basset                          13\n",
       "                              ... \n",
       "Gordon Setter                    4\n",
       "Tibetan Mastiff                  4\n",
       "Tibetan Terrier                  4\n",
       "Irish Setter                     4\n",
       "Greater Swiss Mountain Dog       3\n",
       "Cairn                            3\n",
       "Briard                           3\n",
       "Ibizan Hound                     3\n",
       "Leonberg                         3\n",
       "Welsh Springer Spaniel           3\n",
       "Afghan Hound                     3\n",
       "Komondor                         3\n",
       "Brabancon Griffon                3\n",
       "Irish Water Spaniel              3\n",
       "Scottish Deerhound               3\n",
       "Curly-Coated Retriever           3\n",
       "Wire-Haired Fox Terrier          2\n",
       "Black-And-Tan Coonhound          2\n",
       "Australian Terrier               2\n",
       "Toy Terrier                      2\n",
       "Appenzeller                      2\n",
       "Sussex Spaniel                   2\n",
       "Giant Schnauzer                  2\n",
       "Standard Schnauzer               1\n",
       "Scotch Terrier                   1\n",
       "Clumber                          1\n",
       "Groenendael                      1\n",
       "Japanese Spaniel                 1\n",
       "Silky Terrier                    1\n",
       "Entlebucher                      1\n",
       "Name: prediction_1, Length: 111, dtype: int64"
      ]
     },
     "execution_count": 56,
     "metadata": {},
     "output_type": "execute_result"
    }
   ],
   "source": [
    "df_master.prediction_1.value_counts()"
   ]
  },
  {
   "cell_type": "markdown",
   "metadata": {},
   "source": [
    "#### Insight 3\n",
    "What is the most popular dog type?\n",
    ">Pupper"
   ]
  },
  {
   "cell_type": "code",
   "execution_count": 57,
   "metadata": {},
   "outputs": [
    {
     "data": {
      "text/plain": [
       "Not Available     1761\n",
       "Pupper             221\n",
       "Doggo               72\n",
       "Puppo               23\n",
       "Doggo, Pupper        9\n",
       "Floofer              9\n",
       "Doggo, Puppo         1\n",
       "Doggo, Floofer       1\n",
       "Name: dog_type, dtype: int64"
      ]
     },
     "execution_count": 57,
     "metadata": {},
     "output_type": "execute_result"
    }
   ],
   "source": [
    "df_master.dog_type.value_counts()"
   ]
  }
 ],
 "metadata": {
  "kernelspec": {
   "display_name": "Python 3",
   "language": "python",
   "name": "python3"
  },
  "language_info": {
   "codemirror_mode": {
    "name": "ipython",
    "version": 3
   },
   "file_extension": ".py",
   "mimetype": "text/x-python",
   "name": "python",
   "nbconvert_exporter": "python",
   "pygments_lexer": "ipython3",
   "version": "3.6.8"
  }
 },
 "nbformat": 4,
 "nbformat_minor": 2
}
